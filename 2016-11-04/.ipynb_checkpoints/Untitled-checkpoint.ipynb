{
 "cells": [
  {
   "cell_type": "code",
   "execution_count": 80,
   "metadata": {
    "collapsed": false
   },
   "outputs": [
    {
     "data": {
      "text/plain": [
       "<pyplasm.xgepy.Hpc; proxy of <Swig Object of type 'std::shared_ptr< Hpc > *' at 0x000000000CCB5360> >"
      ]
     },
     "execution_count": 80,
     "metadata": {},
     "output_type": "execute_result"
    }
   ],
   "source": [
    "from larlib import *\n",
    "\n",
    "v = [(0.0,0.0,0.0),(8.0,0.0,0.0),(8.0,16.0,0.0),(0.0,16.0,0.0)]\n",
    "c = [[1,2,3,4]]\n",
    "el = MKPOL([v,c,None]) #base\n",
    "\n",
    "v = [(0.0,0.0,0.0),(8.0,0.0,0.0),(4.0,4.0,5.0)]\n",
    "c = [[1,2,3]]\n",
    "he1 = MKPOL([v,c,None])   #hipped end1\n",
    "\n",
    "v = [(0.0,16.0,0.0),(8.0,16.0,0.0),(4.0,12.0,5.0)]\n",
    "c = [[1,2,3]]\n",
    "he2 = MKPOL([v,c,None])\n",
    "\n",
    "v = [(0.0,0.0,0.0),(0.0,16.0,0.0),(4.0,12.0,5.0),(4.0,4.0,5.0)]\n",
    "c = [[1,2,3,4]]\n",
    "he3 = MKPOL([v,c,None])\n",
    "\n",
    "v = [(8.0,0.0,0.0),(8.0,16.0,0.0),(4.0,12.0,5.0),(4.0,4.0,5.0)]\n",
    "c = [[1,2,3,4]]\n",
    "he4 = MKPOL([v,c,None])\n",
    "\n",
    "v = [(8.0,6.0,0.0),(8.0,8.0,3.0),(8.0,10.0,0.0)]\n",
    "c = [[1,2,3]]\n",
    "d1 = MKPOL([v,c,None]) #Dormer\n",
    "\n",
    "v = [(8.0,6.0,0.0),(8.0,8.0,3.0),(5.61,8.0,3.0)]\n",
    "c = [[1,2,3]]\n",
    "d2 = MKPOL([v,c,None]) #Dormer\n",
    "\n",
    "v = [(8.0,6.2,0.0),(8.0,8.0,2.8),(5.81,8.0,2.8)]\n",
    "c = [[1,2,3]]\n",
    "d2i = MKPOL([v,c,None]) #Dormer internal\n",
    "\n",
    "v = [(8.0,10.0,0.0),(8.0,8.0,3.0),(5.61,8.0,3.0)]\n",
    "c = [[1,2,3]]\n",
    "d3 = MKPOL([v,c,None]) #Dormer\n",
    "\n",
    "v = [(8.0,9.8,0.0),(8.0,8.0,2.8),(5.81,8.0,2.8)]\n",
    "c = [[1,2,3]]\n",
    "d3i = MKPOL([v,c,None]) #Dormer internal\n",
    "\n",
    "v = [(8.0,6.0,0.0),(8.0,6.2,0.0),(8.0,8.0,2.8),(8.0,8.0,3.0),(8.0,9.8,0.0),(8.0,10.0,0.0),] \n",
    "c = [[1,2,3,4],[3,5,6,4]]\n",
    "di = MKPOL([v,c,None])\n",
    "\n",
    "\n",
    "\n",
    "\n",
    "final = STRUCT([he1,he2,he3,he4,d2,d2i,d3,d3i,di])\n",
    "\n",
    "\n",
    "VIEW(final)"
   ]
  },
  {
   "cell_type": "code",
   "execution_count": null,
   "metadata": {
    "collapsed": true
   },
   "outputs": [],
   "source": []
  },
  {
   "cell_type": "code",
   "execution_count": null,
   "metadata": {
    "collapsed": true
   },
   "outputs": [],
   "source": []
  }
 ],
 "metadata": {
  "kernelspec": {
   "display_name": "Python 2",
   "language": "python",
   "name": "python2"
  },
  "language_info": {
   "codemirror_mode": {
    "name": "ipython",
    "version": 2
   },
   "file_extension": ".py",
   "mimetype": "text/x-python",
   "name": "python",
   "nbconvert_exporter": "python",
   "pygments_lexer": "ipython2",
   "version": "2.7.12"
  }
 },
 "nbformat": 4,
 "nbformat_minor": 1
}
