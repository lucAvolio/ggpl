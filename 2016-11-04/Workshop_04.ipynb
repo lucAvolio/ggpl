{
 "cells": [
  {
   "cell_type": "markdown",
   "metadata": {},
   "source": [
    "## ROOF"
   ]
  },
  {
   "cell_type": "markdown",
   "metadata": {},
   "source": [
    "We are going to build up a roof (the image below).\n",
    "![alt text](Start.png \"Title\")"
   ]
  },
  {
   "cell_type": "markdown",
   "metadata": {},
   "source": [
    "Function to create the structure of the roof."
   ]
  },
  {
   "cell_type": "code",
   "execution_count": 8,
   "metadata": {
    "collapsed": false
   },
   "outputs": [],
   "source": [
    "from larlib import *\n",
    "\n",
    "def createStructure(vs, cs):\n",
    "    \"\"\"\n",
    "    Function to create the structure of the roof.\n",
    "    \n",
    "    Args:\n",
    "    vs: set of vertices\n",
    "    cs: set of complex cells\n",
    "    \n",
    "    Returns:\n",
    "    3D value of type HPC representing the structure of the roof.\n",
    "    \"\"\"\n",
    "    skeleton = []\n",
    "    beams = []\n",
    "    \n",
    "    for i in range(0,len(cs)):\n",
    "        inFace = cs[i][0]\n",
    "        endFace = cs[i][len(cs[i])-1]\n",
    "        for j in range(0,len(cs[i])-1):\n",
    "            if (cs[i][j],cs[i][j+1]) not in beams:\n",
    "                b = [cs[i][j],cs[i][j+1]]\n",
    "                beam = MKPOL([vs,[b],None])\n",
    "                beam = OFFSET([0.1,0.1,0.1])(beam)\n",
    "                skeleton.extend([beam])\n",
    "        if (inFace,endFace) not in beams:\n",
    "            b = [inFace,endFace]\n",
    "            beam = MKPOL([vs,[b],None])\n",
    "            beam = OFFSET([0.1,0.1,0.1])(beam)\n",
    "            skeleton.extend([beam])\n",
    "    return STRUCT(skeleton)"
   ]
  },
  {
   "cell_type": "markdown",
   "metadata": {},
   "source": [
    "Output:\n",
    "![alt text](Structure.png \"Title\")"
   ]
  },
  {
   "cell_type": "markdown",
   "metadata": {},
   "source": [
    "Function to build the top of the roof."
   ]
  },
  {
   "cell_type": "code",
   "execution_count": 9,
   "metadata": {
    "collapsed": true
   },
   "outputs": [],
   "source": [
    "def createFaces(vs, cs):\n",
    "    \"\"\"\n",
    "    Function to create the structure of the roof.\n",
    "    \n",
    "    Args:\n",
    "    vs: set of vertices\n",
    "    cs: set of complex cells\n",
    "    \n",
    "    Returns:\n",
    "    3D value of type HPC representing the top of the roof.\n",
    "    \"\"\"\n",
    "    roofFaces = []\n",
    "    for i in range(0,len(cs)):\n",
    "        face = MKPOL([vs,[cs[i]],None])\n",
    "        face = OFFSET([0.1,0.1,0.1])(face)\n",
    "        roofFaces.extend([face])\n",
    "    return STRUCT(roofFaces)\n",
    "    "
   ]
  },
  {
   "cell_type": "markdown",
   "metadata": {},
   "source": [
    "Output:\n",
    "![alt text](Faces.png \"Title\")"
   ]
  },
  {
   "cell_type": "markdown",
   "metadata": {},
   "source": [
    "Function to assemble the parts of the roof."
   ]
  },
  {
   "cell_type": "code",
   "execution_count": 10,
   "metadata": {
    "collapsed": false
   },
   "outputs": [],
   "source": [
    "def ggpl_buildRoof(vs,cs):\n",
    "    \"\"\"\n",
    "    Function to create the roof.\n",
    "    \n",
    "    Args:\n",
    "    vs: set of vertices\n",
    "    cs: set of complex cells\n",
    "    \n",
    "    Returns:\n",
    "    3D value of type HPC representing the roof.\n",
    "    \"\"\"\n",
    "    structure = createStructure(verts, cells)\n",
    "    roof = COLOR(GRAY)(createFaces(verts, cells))\n",
    "    \n",
    "    return STRUCT([structure,T(3)(0.1),roof])"
   ]
  },
  {
   "cell_type": "markdown",
   "metadata": {},
   "source": [
    "Output with:\n",
    "    - verts = [(0.0,0.0,0.0),(8.0,0.0,0.0),(4.0,4.0,5.0),(0.0,16.0,0.0),(8.0,16.0,0.0),(4.0,12.0,5.0)]\n",
    "    - cells = [[1,2,3],[4,5,6],[1,3,6,4],[2,3,6,5]]\n",
    "![alt text](Roof.png \"Title\")"
   ]
  },
  {
   "cell_type": "markdown",
   "metadata": {},
   "source": [
    "Output with:\n",
    "    - verts = [(0.0,0.0,0.0),(16.0,0.0,0.0),(8.0,2.0,7.0),(0.0,8.0,0.0),(16.0,8.0,0.0),(8.0,6.0,7.0)]\n",
    "    - cells = [[1,2,3],[4,5,6],[1,3,6,4],[2,3,6,5]]\n",
    "![alt text](Example.png \"Title\")"
   ]
  },
  {
   "cell_type": "code",
   "execution_count": 11,
   "metadata": {
    "collapsed": false
   },
   "outputs": [
    {
     "data": {
      "text/plain": [
       "<pyplasm.xgepy.Hpc; proxy of <Swig Object of type 'std::shared_ptr< Hpc > *' at 0x000000000C3F3EA0> >"
      ]
     },
     "execution_count": 11,
     "metadata": {},
     "output_type": "execute_result"
    }
   ],
   "source": [
    "verts = [(0.0,0.0,0.0),(16.0,0.0,0.0),(8.0,2.0,7.0),(0.0,8.0,0.0),(16.0,8.0,0.0),(8.0,6.0,7.0)]\n",
    "cells = [[1,2,3],[4,5,6],[1,3,6,4],[2,3,6,5]]\n",
    "sk = ggpl_buildRoof(verts,cells)\n",
    "VIEW(sk)"
   ]
  },
  {
   "cell_type": "code",
   "execution_count": null,
   "metadata": {
    "collapsed": true
   },
   "outputs": [],
   "source": []
  }
 ],
 "metadata": {
  "kernelspec": {
   "display_name": "Python 2",
   "language": "python",
   "name": "python2"
  },
  "language_info": {
   "codemirror_mode": {
    "name": "ipython",
    "version": 2
   },
   "file_extension": ".py",
   "mimetype": "text/x-python",
   "name": "python",
   "nbconvert_exporter": "python",
   "pygments_lexer": "ipython2",
   "version": "2.7.12"
  }
 },
 "nbformat": 4,
 "nbformat_minor": 1
}
