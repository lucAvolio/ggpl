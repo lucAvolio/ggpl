{
 "cells": [
  {
   "cell_type": "markdown",
   "metadata": {},
   "source": [
    "# WORKSHOP_02"
   ]
  },
  {
   "cell_type": "markdown",
   "metadata": {},
   "source": [
    "The model used to build a 3D structure is in the image below (with some changes).\n",
    "![alt text](Model.jpg \"Title\")"
   ]
  },
  {
   "cell_type": "markdown",
   "metadata": {},
   "source": [
    "Imported libraries"
   ]
  },
  {
   "cell_type": "code",
   "execution_count": 1,
   "metadata": {
    "collapsed": false
   },
   "outputs": [
    {
     "name": "stdout",
     "output_type": "stream",
     "text": [
      "Evaluating fenvs.py..\n",
      "...fenvs.py imported in 0.00884772958595 seconds\n"
     ]
    },
    {
     "name": "stderr",
     "output_type": "stream",
     "text": [
      "c:\\program files\\python27\\lib\\site-packages\\larlib\\larstruct.py:233: FutureWarning: comparison to `None` will result in an elementwise object comparison in the future.\n",
      "  self.body = [item for item in data if item != None]\n"
     ]
    }
   ],
   "source": [
    "from larlib import *\n",
    "import csv"
   ]
  },
  {
   "cell_type": "markdown",
   "metadata": {},
   "source": [
    "Function to read from a csv file. The file must include on:\n",
    "- on ODD LINES the 3D vector positioning the local origin of the next frame with respect to the local origin of the previous one\n",
    "- on EVEN LINES the actual parameters of a planar concrete frame. Referred to the same frame, these parameters are:\n",
    "    - pillarsDistances: distances (y axis) between pillars\n",
    "    - beamsDistances: distances (z axis) between beams\n",
    "    - pillarSection: dimension (x,y) of the pillars\n",
    "    - beamSection: dimension (x,z) of the beams.\n"
   ]
  },
  {
   "cell_type": "code",
   "execution_count": 2,
   "metadata": {
    "collapsed": false
   },
   "outputs": [],
   "source": [
    "def search(string, char): \n",
    "    \"\"\"\n",
    "    Function to search a character in a string \n",
    "\n",
    "    Args:\n",
    "    string: a string in which we have to find the character char\n",
    "    char: a character\n",
    "\n",
    "    Returns:\n",
    "    An index corresponding to the position of the character within the string\n",
    "\n",
    "    \"\"\"   \n",
    "    \n",
    "    index = 0 \n",
    "    while index < len(string): \n",
    "        if string[index] == char: \n",
    "            return index\n",
    "        index = index + 1 \n",
    "    return -1 \n",
    "\n",
    "\n",
    "def loadDataFromCsv(string):\n",
    "    \"\"\"\n",
    "    Function to load the contenct of a csv file\n",
    "\n",
    "    Returns:\n",
    "    A set of element's list\n",
    "\n",
    "    \"\"\"   \n",
    "    with open(string,'r') as f:\n",
    "        dati=csv.reader(f, delimiter=':', quotechar=' ')\n",
    "        #my_list = map(tuple, dati)\n",
    "        xDistances = []\t\t\t\t#per la traslazione sull'asse x\n",
    "        yDistances = []\t\t\t\t#per la traslazione sull'asse y\n",
    "        zDistances = []\t\t\t\t#per la traslazione sull'asse z\n",
    "        beamsSections = []\n",
    "        beamsDistances = []\n",
    "        pillarsSections = []\n",
    "        pillarsDistances = []\n",
    "\n",
    "        for line in dati:\n",
    "            if(len(line) == 1):\n",
    "                s = line[0]\n",
    "                xDistances.extend([float(s[0:search(s,\",\")])])\n",
    "                s = s[search(s,\",\")+1:len(s)]\n",
    "                yDistances.extend([float(s[0:search(s,\",\")])])\n",
    "                zDistances.extend([float(s[search(s,\",\")+1:len(s)])])\n",
    "            else:\n",
    "                pillarsDistances.append(line[0])\n",
    "                beamsDistances.append(line[1])\n",
    "                pillarsSections.append(line[2])\n",
    "                beamsSections.append(line[3])\n",
    "\n",
    "\n",
    "        tmp = []\n",
    "        for i in range (0, len(pillarsDistances)):\n",
    "            el2 = []\n",
    "            for j in range (0, len(pillarsDistances[i])):\n",
    "                if(j%2 == 0):\n",
    "                    el2.extend([float(pillarsDistances[i][j])])\n",
    "            tmp.append(el2)\n",
    "        pillarsDistances = tmp\n",
    "\n",
    "        tmp = []\n",
    "        for i in range (0, len(beamsDistances)):\n",
    "            el2 = []\n",
    "            for j in range (0, len(beamsDistances[i])):\n",
    "                if(j%2 == 0):\n",
    "                    el2.extend([float(beamsDistances[i][j])])\n",
    "            tmp.append(el2)\n",
    "        beamsDistances = tmp\n",
    "\n",
    "        ps= []\n",
    "        val = search(pillarsSections[0], \",\")\n",
    "        for i in range(0,len(pillarsSections)):\n",
    "            tmp = pillarsSections[i]\n",
    "            px = float(tmp[0:val])\n",
    "            py = float(tmp[val+1:len(tmp)])\n",
    "            p = (px,py)\n",
    "            ps.append(p)\n",
    "        pillarsSections = ps\n",
    "\n",
    "        bs= []\n",
    "        val = search(beamsSections[0], \",\")\n",
    "        for i in range(0,len(beamsSections)):\n",
    "            tmp = beamsSections[i]\n",
    "            bx = float(tmp[0:val])\n",
    "            by = float(tmp[val+1:len(tmp)])\n",
    "            b = (bx,by)\n",
    "            bs.append(b)\n",
    "        beamsSections = bs\n",
    "\n",
    "    return (pillarsDistances, beamsDistances, pillarsSections, beamsSections, xDistances)"
   ]
  },
  {
   "cell_type": "markdown",
   "metadata": {},
   "source": [
    "Function to build up a single planar frame."
   ]
  },
  {
   "cell_type": "code",
   "execution_count": 3,
   "metadata": {
    "collapsed": false
   },
   "outputs": [],
   "source": [
    "def buildFrame(pDistances, bDistances, pSection, bSection):\n",
    "    \"\"\"\n",
    "    Function to build up a single planar frame of the structure\n",
    "\n",
    "    Args:\n",
    "    pDistances: distances between pillars (y axis)\n",
    "    bDistances: interstory heights (z axis)\n",
    "    pSection: pillar's dimension (x,y)\n",
    "    bSection: beam's dimension (x,z)\n",
    "\n",
    "    Returns:\n",
    "    3D value of type HPC representing a frame of the building\n",
    "\n",
    "    \"\"\"\n",
    "\n",
    "    (px,py) = pSection\n",
    "    (bx,bz) = bSection\n",
    "\n",
    "    #Build up pillars of given dimension\n",
    "    pillarBasesList = []\n",
    "    tmp = PROD([Q(px),Q(py)])\n",
    "    for i in range(0, len(pDistances)):\n",
    "        pillarBasesList.extend([tmp,T(2)(pDistances[i] + py)])\n",
    "    pillarBasesList.extend([tmp])\n",
    "    pillarBases = STRUCT(pillarBasesList)\n",
    "\n",
    "    pillars = []\n",
    "    for j in range(0, len(bDistances)):\n",
    "        tmp = PROD([pillarBases, Q(bDistances[j])])\n",
    "        pillars.extend([tmp,T(3)(bDistances[j] + bz)])\n",
    "    pillars = STRUCT(pillars)\n",
    "\n",
    "\n",
    "\n",
    "    #Build up beams of given dimension\n",
    "    tmp = PROD([Q(bx),Q(bz)])\n",
    "    beamBasesList = []\n",
    "    prev = 0\n",
    "    for i in range(0, len(bDistances)):\n",
    "        beamBasesList.extend([T(2)(bDistances[i]+prev),tmp])\n",
    "        prev = bz\n",
    "    beamBases = STRUCT(beamBasesList)\n",
    "\n",
    "    beams = []\n",
    "    prev = py + py/2.0\n",
    "    for j in range(0, len(pDistances)):\n",
    "        tmp = PROD([beamBases,Q(-pDistances[j]-prev)])\n",
    "        beams.extend([tmp,T(3)(-pDistances[j]-prev)])\n",
    "        if(j == len(pDistances)-2):\n",
    "            prev = py+py/2.0\n",
    "        else:\n",
    "            prev = py\n",
    "\n",
    "\n",
    "    beams = STRUCT(beams)\n",
    "    beams = R([2,3])(PI/2.0)(beams)\n",
    "\n",
    "    building = STRUCT([pillars,beams])\n",
    "\n",
    "    return building"
   ]
  },
  {
   "cell_type": "markdown",
   "metadata": {},
   "source": [
    "Output:\n",
    "![alt text](Frame.png \"Title\")"
   ]
  },
  {
   "cell_type": "markdown",
   "metadata": {},
   "source": [
    "Function to create multiple frames."
   ]
  },
  {
   "cell_type": "code",
   "execution_count": 4,
   "metadata": {
    "collapsed": false
   },
   "outputs": [],
   "source": [
    "def buildMultipleFrames(values):\n",
    "    \"\"\"\n",
    "    Function to build up multiple planar frames of the structure\n",
    "\n",
    "    Args:\n",
    "    values: a set of lists (pDistances, bDistances, pSection, bSection) for each frame\n",
    "\n",
    "    Returns:\n",
    "    3D value of type HPC representing the frames of the building\n",
    "\n",
    "    \"\"\"\n",
    "    xDistances = values[4]\n",
    "    \n",
    "    elem = []\n",
    "    framesHeight = []\n",
    "    framesWidth = []\n",
    "    \n",
    "    for i in range(0,len(xDistances)):\n",
    "        tmp = 0\n",
    "        pillarsDistance = values[0][i]\n",
    "        beamsDistance = values[1][i]\n",
    "        for j in range (0,len(beamsDistance)):\n",
    "            tmp = tmp + beamsDistance[j]\n",
    "        framesHeight.extend([tmp])\n",
    "        tmp = 0\n",
    "        for j in range (0,len(pillarsDistance)):\n",
    "            tmp = tmp + pillarsDistance[j]\n",
    "        framesWidth.extend([tmp])\n",
    "        pillarSection = values[2][i]\n",
    "        beamSection = values[3][i]\n",
    "        singleFrame = buildFrame(pillarsDistance, beamsDistance, pillarSection, beamSection)\n",
    "        elem.extend([T(1)(xDistances[i]),singleFrame])\n",
    "    \n",
    "    return (STRUCT(elem),framesHeight, framesWidth)"
   ]
  },
  {
   "cell_type": "markdown",
   "metadata": {},
   "source": [
    "Output:\n",
    "![alt text](Frames.png \"Title\")"
   ]
  },
  {
   "cell_type": "markdown",
   "metadata": {},
   "source": [
    "Function to create beams between planar frames (x axis)."
   ]
  },
  {
   "cell_type": "code",
   "execution_count": 18,
   "metadata": {
    "collapsed": false
   },
   "outputs": [],
   "source": [
    "def buildInternalBeams(values, heights, widths):\n",
    "    \"\"\"\n",
    "    Function to build up structure's internal beams\n",
    "\n",
    "    Args:\n",
    "    values: a set of lists (pDistances, bDistances, pSection, bSection) for each frame\n",
    "    heights: a set of palanar frames' heights\n",
    "    widths: a set of planar frames' widths\n",
    "\n",
    "    Returns:\n",
    "    3D value of type HPC representing the internal beams of the building\n",
    "\n",
    "    \"\"\"\n",
    "    (psDistances, bsDistances, psSection, bsSection, xDistances) = values\n",
    "    planes = []\n",
    "    dist = 0\n",
    "    for j in range(0,len(xDistances)-1):\n",
    "        minHeight = 0\n",
    "        if(heights[j]<=heights[j+1]):\n",
    "            minHeight = j          \n",
    "        else:\n",
    "            minHeight = j+1\n",
    "\n",
    "        minWidth = 0\n",
    "        if(widths[j]<=widths[j+1]):\n",
    "            minWidth = j\n",
    "        else:\n",
    "            minWidth = j+1\n",
    "        \n",
    "        (by,bz) = bsSection[minHeight]\n",
    "        (px,py) = psSection[minWidth]\n",
    "        bx = xDistances[j+1]\n",
    "        yDistances = psDistances[minWidth]\n",
    "        zDistances = bsDistances[minHeight]\n",
    "        \n",
    "        if(j==0):\n",
    "            dist = px            \n",
    "        \n",
    "        el = PROD([Q(bx),Q(by)])\n",
    "        el = PROD([el,Q(bz)])\n",
    "        el = STRUCT([el])\n",
    "        tmp = []\n",
    "        for i in range(0,len(yDistances)):\n",
    "            tmp.extend([el,T(2)(yDistances[i]+py)])\n",
    "        tmp.extend([el])\n",
    "        tmp = STRUCT(tmp)\n",
    "        \n",
    "        floors = []\n",
    "        pred = 0\n",
    "        for i in range(0, len(zDistances)):\n",
    "            floors.extend([T(3)(zDistances[i]+pred),tmp])\n",
    "            pred = bz\n",
    "            \n",
    "        floors = STRUCT(floors)\n",
    "        \n",
    "        \n",
    "        planes.extend([T(1)(dist),floors])\n",
    "        dist = bx\n",
    "    \n",
    "    planes = STRUCT(planes)   \n",
    "    \n",
    "    return planes"
   ]
  },
  {
   "cell_type": "markdown",
   "metadata": {},
   "source": [
    "Output:\n",
    "![alt text](InternalBeams.png \"Title\")"
   ]
  },
  {
   "cell_type": "markdown",
   "metadata": {},
   "source": [
    "Run the code."
   ]
  },
  {
   "cell_type": "code",
   "execution_count": 17,
   "metadata": {
    "collapsed": false
   },
   "outputs": [
    {
     "data": {
      "text/plain": [
       "<pyplasm.xgepy.Hpc; proxy of <Swig Object of type 'std::shared_ptr< Hpc > *' at 0x000000000B359210> >"
      ]
     },
     "execution_count": 17,
     "metadata": {},
     "output_type": "execute_result"
    }
   ],
   "source": [
    "def build(string):\n",
    "    values = loadDataFromCsv(string)\n",
    "    (building, heights, widths) = buildMultipleFrames(values)\n",
    "\n",
    "    beams = buildInternalBeams(values, heights, widths)\n",
    "    building = STRUCT([building,beams])\n",
    "    \n",
    "    return building\n",
    "    \n",
    "building = build('frame_data_440708.csv')\n",
    "VIEW(building)"
   ]
  },
  {
   "cell_type": "markdown",
   "metadata": {},
   "source": [
    "Output:\n",
    "![alt text](Structure.png \"Title\")"
   ]
  }
 ],
 "metadata": {
  "kernelspec": {
   "display_name": "Python 2",
   "language": "python",
   "name": "python2"
  },
  "language_info": {
   "codemirror_mode": {
    "name": "ipython",
    "version": 2
   },
   "file_extension": ".py",
   "mimetype": "text/x-python",
   "name": "python",
   "nbconvert_exporter": "python",
   "pygments_lexer": "ipython2",
   "version": "2.7.12"
  }
 },
 "nbformat": 4,
 "nbformat_minor": 1
}
