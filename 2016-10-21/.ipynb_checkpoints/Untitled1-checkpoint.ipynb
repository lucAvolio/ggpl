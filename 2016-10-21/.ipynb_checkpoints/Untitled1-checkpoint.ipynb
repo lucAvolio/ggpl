{
 "cells": [
  {
   "cell_type": "markdown",
   "metadata": {},
   "source": [
    "# WORKSHOP N.2"
   ]
  },
  {
   "cell_type": "markdown",
   "metadata": {},
   "source": [
    "The model used to construct a 3D structure is in the image below.\n",
    "![alt text](Model.jpg \"Title\")\n"
   ]
  },
  {
   "cell_type": "markdown",
   "metadata": {},
   "source": [
    "Function to build up the pillars"
   ]
  },
  {
   "cell_type": "code",
   "execution_count": 8,
   "metadata": {
    "collapsed": false
   },
   "outputs": [],
   "source": [
    "def buildPillars(pDistances, bDistances, pSection, bSection, xDistance):\n",
    "    \"\"\"\n",
    "    Function to build up pillars of the structure\n",
    "\n",
    "    Args:\n",
    "    pDistances: distances between pillars (y axis)\n",
    "    bDistances: interstory heights (z axis)\n",
    "    pSection: pillar's dimension (x,y)\n",
    "    bSection: beam's dimension (x,z)\n",
    "    xDistance: distances between pillars (x axis)\n",
    "\n",
    "    Returns:\n",
    "    3D value of type HPC representing the pillars of the building\n",
    "\n",
    "    \"\"\"\n",
    "    \n",
    "    (px,py) = pSection\n",
    "    (bx,bz) = bSection\n",
    "    \n",
    "    dist = []\n",
    "    for i in range(0, len(xDistance)):\n",
    "        dist.append(px)\n",
    "        dist.append(-xDistance[i])\n",
    "    dist.append(px)\n",
    "\n",
    "    #Build up pillars of given dimension\n",
    "    pillarBasesList = []\n",
    "    tmp = PROD([QUOTE(dist),Q(py)])\n",
    "    for i in range(0, len(pDistances)):\n",
    "        pillarBasesList.extend([tmp,T(2)(pDistances[i] + py)])\n",
    "    pillarBasesList.extend([tmp])\n",
    "    pillarBases = STRUCT(pillarBasesList)\n",
    "\n",
    "    pillars = []\n",
    "    for j in range(0, len(bDistances)):\n",
    "        tmp = PROD([pillarBases, Q(bDistances[j])])\n",
    "        pillars.extend([tmp,T(3)(bDistances[j] + bz)])\n",
    "    #pillars.extend([tmp])\n",
    "    pillars = STRUCT(pillars)\n",
    "    return pillars"
   ]
  },
  {
   "cell_type": "markdown",
   "metadata": {},
   "source": [
    "Output:\n",
    "![alt text](Pillars.png \"Title\")"
   ]
  },
  {
   "cell_type": "markdown",
   "metadata": {},
   "source": [
    "Function to add beams to the frame"
   ]
  },
  {
   "cell_type": "code",
   "execution_count": 9,
   "metadata": {
    "collapsed": false
   },
   "outputs": [],
   "source": [
    "def buildBeams(pDistances, bDistances, pSection, bSection, xDistance):\n",
    "    \"\"\"\n",
    "    Function to build up beams (y axis) of the structure\n",
    "\n",
    "    Args:\n",
    "    pDistances: distances between pillars (y axis)\n",
    "    bDistances: interstory heights (z axis)\n",
    "    pSection: pillar's dimension (x,y)\n",
    "    bSection: beam's dimension (x,z)\n",
    "    xDistance: distances between pillars (x axis)\n",
    "\n",
    "    Returns:\n",
    "    3D value of type HPC representing the beams of the building\n",
    "\n",
    "    \"\"\" \n",
    "    \n",
    "    (px,py) = pSection\n",
    "    (bx,bz) = bSection\n",
    "    \n",
    "    dist = []\n",
    "    for i in range(0, len(xDistance)):\n",
    "        dist.append(px)\n",
    "        dist.append(-xDistance[i])\n",
    "    dist.append(px)\n",
    "    \n",
    "    #Build up beams of given dimension\n",
    "    tmp = PROD([QUOTE(dist),Q(bz)])\n",
    "    beamBasesList = []\n",
    "    prev = 0\n",
    "    elem = 0\n",
    "    for i in range(0, len(bDistances)):\n",
    "        beamBasesList.extend([T(2)(bDistances[i]+prev),tmp])\n",
    "        prev = bz\n",
    "        elem = bDistances[i]+prev\n",
    "    #beamBasesList.extend([T(2)(elem),tmp])\n",
    "    beamBases = STRUCT(beamBasesList)\n",
    "\n",
    "    beams = []\n",
    "    prev = py + py/2.0\n",
    "    tmp = []\n",
    "    for j in range(0, len(pDistances)):\n",
    "        if(len(pDistances)==1):\n",
    "            tmp = PROD([beamBases,Q(-pDistances[j]-py*2)])\n",
    "            beams.extend([tmp,T(3)(-pDistances[j]-prev)])\n",
    "        else:\n",
    "            tmp = PROD([beamBases,Q(-pDistances[j]-prev)])\n",
    "            beams.extend([tmp,T(3)(-pDistances[j]-prev)])\n",
    "            if(j == len(pDistances)-2):\n",
    "                prev = py+py/2.0\n",
    "            else:\n",
    "                prev = py\n",
    "\n",
    "\n",
    "    beams = STRUCT(beams)\n",
    "    beams = R([2,3])(PI/2.0)(beams)\n",
    "    \n",
    "    return beams"
   ]
  },
  {
   "cell_type": "markdown",
   "metadata": {},
   "source": [
    "Output:\n",
    "![alt text](Beams.png \"Title\")"
   ]
  },
  {
   "cell_type": "markdown",
   "metadata": {
    "collapsed": true
   },
   "source": [
    "Beams between frames"
   ]
  },
  {
   "cell_type": "code",
   "execution_count": 11,
   "metadata": {
    "collapsed": false
   },
   "outputs": [],
   "source": [
    "from larlib import *\n",
    "\n",
    "def buildInternalBeams(pDistances, bDistances, pSection, bSection, xDistance):\n",
    "    \"\"\"\n",
    "    Function to build up internal beams of the structure \n",
    "\n",
    "    Args:\n",
    "    pDistances: distances between pillars (y axis)\n",
    "    bDistances: interstory heights (z axis)\n",
    "    pSection: pillar's dimension (x,y)\n",
    "    bSection: beam's dimension (x,z)\n",
    "    xDistance: distances between pillars (x axis)\n",
    "\n",
    "    Returns:\n",
    "    3D value of type HPC representing the internal beams of the building\n",
    "\n",
    "    \"\"\"\n",
    "    (px,py) = pSection\n",
    "    (bx,bz) = bSection\n",
    "    \n",
    "    distX = []\n",
    "    for i in range(0,len(xDistance)):\n",
    "        distX.append(-px)\n",
    "        distX.append(xDistance[i])\n",
    "\n",
    "    distY = []\n",
    "    for i in range(0,len(pDistances)):\n",
    "        distY.append(px)\n",
    "        distY.append(-pDistances[i])\n",
    "\n",
    "    internalBeam = PROD([QUOTE(distX),Q(py)])\n",
    "    internalBeam = STRUCT([internalBeam])\n",
    "    internalBeam = PROD([internalBeam,Q(bz)])\n",
    "    \n",
    "    beamList = []\n",
    "    for j in range(0,len(pDistances)):\n",
    "        beamList.extend([internalBeam,T(2)(pDistances[j]+py)])\n",
    "    beamList.extend([internalBeam])\n",
    "    beamList = STRUCT(beamList)\n",
    "\n",
    "    beams = []\n",
    "    prev = 0\n",
    "    for j in range(0,len(bDistances)):\n",
    "        beams.extend([T(3)(bDistances[j]+prev),beamList])\n",
    "        prev = bz \n",
    "    beams = STRUCT(beams)\n",
    "\n",
    "    return beams"
   ]
  },
  {
   "cell_type": "markdown",
   "metadata": {
    "collapsed": true
   },
   "source": [
    "Output:\n",
    "![alt text](InternalBeams.png \"Title\")"
   ]
  },
  {
   "cell_type": "markdown",
   "metadata": {},
   "source": [
    "Function to build the entire structure"
   ]
  },
  {
   "cell_type": "code",
   "execution_count": 5,
   "metadata": {
    "collapsed": false
   },
   "outputs": [],
   "source": [
    "def buildStructure(pDistances, bDistances, pSection, bSection, xDistances):\n",
    "    \"\"\"\n",
    "    Function to build up the structure\n",
    "\n",
    "    Args:\n",
    "    pDistances: distances between pillars (y axis)\n",
    "    bDistances: interstory heights (z axis)\n",
    "    pSection: pillar's dimension (x,y)\n",
    "    bSection: beam's dimension (x,z)\n",
    "    xDistance: distances between pillars (x axis)\n",
    "\n",
    "    Returns:\n",
    "    3D value of type HPC representing the entire structure of the building\n",
    "\n",
    "    \"\"\"\n",
    "    pillars = buildPillars(pDistances, bDistances, pSection, bSection, xDistances)\n",
    "    ibeams = buildInternalBeams(pDistances, bDistances, pSection, bSection, xDistances)\n",
    "    beams = buildBeams(pDistances, bDistances, pSection, bSection, xDistances)\n",
    "    structure = STRUCT([pillars,ibeams,beams])\n",
    "    \n",
    "    return structure"
   ]
  },
  {
   "cell_type": "markdown",
   "metadata": {
    "collapsed": true
   },
   "source": [
    "Output:\n",
    "![alt text](Structure.png \"Title\")"
   ]
  },
  {
   "cell_type": "code",
   "execution_count": 12,
   "metadata": {
    "collapsed": false
   },
   "outputs": [
    {
     "data": {
      "text/plain": [
       "<pyplasm.xgepy.Hpc; proxy of <Swig Object of type 'std::shared_ptr< Hpc > *' at 0x000000000BA82B40> >"
      ]
     },
     "execution_count": 12,
     "metadata": {},
     "output_type": "execute_result"
    }
   ],
   "source": [
    "#Data\n",
    "pillarDistances = [3,3,3,3,3,3,3,3]\n",
    "beamDistances = [5,5,5,5,5,5]\n",
    "pillarSection = (0.5,0.5)\n",
    "beamSection = (0.5,0.5)\n",
    "xDistances=[5,5,5,5,5,5,5,5]\n",
    "\n",
    "structure = buildStructure(pillarDistances, beamDistances, pillarSection, beamSection, xDistances)\n",
    "VIEW(structure)"
   ]
  },
  {
   "cell_type": "code",
   "execution_count": null,
   "metadata": {
    "collapsed": true
   },
   "outputs": [],
   "source": []
  }
 ],
 "metadata": {
  "celltoolbar": "Raw Cell Format",
  "kernelspec": {
   "display_name": "Python 2",
   "language": "python",
   "name": "python2"
  },
  "language_info": {
   "codemirror_mode": {
    "name": "ipython",
    "version": 2
   },
   "file_extension": ".py",
   "mimetype": "text/x-python",
   "name": "python",
   "nbconvert_exporter": "python",
   "pygments_lexer": "ipython2",
   "version": "2.7.12"
  }
 },
 "nbformat": 4,
 "nbformat_minor": 1
}
