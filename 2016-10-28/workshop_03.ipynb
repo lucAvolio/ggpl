{
 "cells": [
  {
   "cell_type": "markdown",
   "metadata": {},
   "source": [
    "# L SHAPED STAIR"
   ]
  },
  {
   "cell_type": "markdown",
   "metadata": {},
   "source": [
    "The model used is in the image below (with some changes)."
   ]
  },
  {
   "cell_type": "markdown",
   "metadata": {},
   "source": [
    "![alt text](stair.png \"Title\")"
   ]
  },
  {
   "cell_type": "markdown",
   "metadata": {},
   "source": [
    "Function to create a single step."
   ]
  },
  {
   "cell_type": "code",
   "execution_count": 30,
   "metadata": {
    "collapsed": false
   },
   "outputs": [],
   "source": [
    "from larlib import *\n",
    "\n",
    "def createStep(x,y,z,height):\n",
    "    \"\"\"\n",
    "    Function to create a step\n",
    "    \n",
    "    Args:\n",
    "    x: depth of the step (x axis )\n",
    "    y: width of the step (y axis)\n",
    "    z: height of the step (z axis)\n",
    "    height: total height\n",
    "\n",
    "    Returns:\n",
    "     3D value of type HPC representing a step\n",
    "    \"\"\"\n",
    "    step = COLOR(BROWN)(CUBOID([x,y,z]))\n",
    "    step = STRUCT([T(3)(height),step])\n",
    "    base = CUBOID([x-x/6.0,z,height])\n",
    "    base = STRUCT([T(1)(x/6.0),T(2)(y/2.0 - z),base])\n",
    "    pillar = CUBOID([z,z,height+z])\n",
    "    pillar = STRUCT([T(1)(x),T(2)(y/2.0 - z),pillar])\n",
    "    \n",
    "    step = STRUCT([step,base,pillar])\n",
    "    return step"
   ]
  },
  {
   "cell_type": "markdown",
   "metadata": {},
   "source": [
    "Output:\n",
    "![alt text](singleStep.png \"Title\")"
   ]
  },
  {
   "cell_type": "markdown",
   "metadata": {},
   "source": [
    "Function to create a platform."
   ]
  },
  {
   "cell_type": "code",
   "execution_count": 29,
   "metadata": {
    "collapsed": true
   },
   "outputs": [],
   "source": [
    "def createPlatform(xy,z,height):\n",
    "    \"\"\"\n",
    "    Function to create a platform\n",
    "    \n",
    "    Args:\n",
    "    xy: depth and width of the platform (x axis, y axis)\n",
    "    z: height of the platform (z axis)\n",
    "    height: total height\n",
    "\n",
    "    Returns:\n",
    "     3D value of type HPC representing a step\n",
    "    \"\"\"\n",
    "    platform = COLOR(BROWN)(CUBOID([xy,xy,z]))\n",
    "    platform = STRUCT([T(3)(height),platform])\n",
    "    base = CUBOID([xy/2.0-z,z,height])\n",
    "    base1 = STRUCT([T(1)(0.2),T(2)(xy/2.0 - z),base])\n",
    "    base2 = CUBOID([z,xy/2.0+z,height])\n",
    "    base2 = STRUCT([T(2)(xy/2.0-z),T(1)(xy/2.0 - z),base2])\n",
    "    pillar = CUBOID([z,z,height+z])\n",
    "    pillar = STRUCT([T(2)(xy),T(1)(xy/2.0 - z),pillar])\n",
    "    \n",
    "    pl = STRUCT([platform,base1, base2, pillar])\n",
    "    return pl   "
   ]
  },
  {
   "cell_type": "markdown",
   "metadata": {},
   "source": [
    "Output:\n",
    "![alt text](platform.png \"Title\")"
   ]
  },
  {
   "cell_type": "markdown",
   "metadata": {},
   "source": [
    "Function to build the stair."
   ]
  },
  {
   "cell_type": "code",
   "execution_count": 28,
   "metadata": {
    "collapsed": false
   },
   "outputs": [],
   "source": [
    "def createStair(x, y, z, sx, sy, sz, height):\n",
    "    \"\"\"\n",
    "    Function to create a stair\n",
    "    \n",
    "    Args:\n",
    "    x: depth of the cube (x axis)\n",
    "    y: width of the cube (y axis)\n",
    "    z: height of the cube (z axis)\n",
    "    sx: depth of the step (x axis )\n",
    "    sy: width of the step (y axis)\n",
    "    sz: height of the step (z axis)\n",
    "    height: total height\n",
    "\n",
    "    Returns:\n",
    "     3D value of type HPC representing a step\n",
    "    \"\"\"\n",
    "    \n",
    "    step = createStep(sx,sy,sz, height)\n",
    "    \n",
    "    stair = []\n",
    "    tx = 2.8*sx/4.0\n",
    "    tz = height+sz\n",
    "    h = tz\n",
    "    for i in range(0,x):\n",
    "        if (h > z):\n",
    "            break\n",
    "        h = h + tz\n",
    "        stair.extend([step,T(1)(tx),T(3)(tz)])\n",
    "    platform = createPlatform(sy,sz,height)\n",
    "    \n",
    "    stair2 = []\n",
    "    if (h < z):\n",
    "        for i in range(0,y):\n",
    "            if (h > z):\n",
    "                break\n",
    "            h = h + tz\n",
    "            stair2.extend([step,T(1)(tx),T(3)(tz)])\n",
    "    stair2 = STRUCT(stair2)    \n",
    "    stair2 = R([1,2])(PI/2.0)(stair2)\n",
    "    stair.extend([platform])\n",
    "    stair.extend([T(1)(sy),T(3)(height+sz),T(2)(sy-3*sz),stair2])\n",
    "    stair = STRUCT(stair)\n",
    "\n",
    "    return stair"
   ]
  },
  {
   "cell_type": "markdown",
   "metadata": {
    "collapsed": true
   },
   "source": [
    "Output:\n",
    "![alt text](stairCode.png \"Title\")"
   ]
  },
  {
   "cell_type": "markdown",
   "metadata": {},
   "source": [
    "xd,yd,zd are the dimensions (x axis, y axis, z axis) of a cube in which the stair will be built.\n",
    "Step dimension: 3x10x0.3 .\n",
    "Platform dimension: 10x10x0.3 ."
   ]
  },
  {
   "cell_type": "code",
   "execution_count": 31,
   "metadata": {
    "collapsed": false
   },
   "outputs": [
    {
     "data": {
      "text/plain": [
       "<pyplasm.xgepy.Hpc; proxy of <Swig Object of type 'std::shared_ptr< Hpc > *' at 0x000000000C270900> >"
      ]
     },
     "execution_count": 31,
     "metadata": {},
     "output_type": "execute_result"
    }
   ],
   "source": [
    "def ggpl_LShapedStair(x,y,z):\n",
    "    \"\"\"\n",
    "    Function to create a stair\n",
    "    \n",
    "    Args:\n",
    "    x: depth of the cube (x axis)\n",
    "    y: width of the cube (y axis)\n",
    "    z: height of the cube (z axis)\n",
    "    \n",
    "    Returns:\n",
    "     3D value of type HPC representing a step\n",
    "    \"\"\"\n",
    "    sx = 3\n",
    "    sy = 10\n",
    "    sz = 0.3\n",
    "    height = 0.9\n",
    "    stairs = createStair(x-sy,y-sx,z,sx,sy,sz,height)\n",
    "    return stairs\n",
    "\n",
    "\n",
    "    \n",
    "xd = 30\n",
    "yd = 20\n",
    "zd = 40\n",
    "stair = ggpl_LShapedStair(xd,yd,zd)\n",
    "VIEW(stair)"
   ]
  },
  {
   "cell_type": "markdown",
   "metadata": {},
   "source": [
    "Another example with different parameters:\n",
    "    xd = 50\n",
    "    yd = 20\n",
    "    zd = 70\n",
    "![alt text](example.png \"Title\")"
   ]
  }
 ],
 "metadata": {
  "kernelspec": {
   "display_name": "Python 2",
   "language": "python",
   "name": "python2"
  },
  "language_info": {
   "codemirror_mode": {
    "name": "ipython",
    "version": 2
   },
   "file_extension": ".py",
   "mimetype": "text/x-python",
   "name": "python",
   "nbconvert_exporter": "python",
   "pygments_lexer": "ipython2",
   "version": "2.7.12"
  }
 },
 "nbformat": 4,
 "nbformat_minor": 1
}
