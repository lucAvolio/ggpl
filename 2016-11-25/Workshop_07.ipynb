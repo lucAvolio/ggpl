{
 "cells": [
  {
   "cell_type": "markdown",
   "metadata": {},
   "source": [
    "We are going to create a modern door. The model is in the image below.\n",
    "![alt text](contemporary-windows-and-doors.jpg \"Title\")"
   ]
  },
  {
   "cell_type": "markdown",
   "metadata": {},
   "source": [
    "Function to create the door's panel."
   ]
  },
  {
   "cell_type": "code",
   "execution_count": 73,
   "metadata": {
    "collapsed": false
   },
   "outputs": [],
   "source": [
    "from larlib import *\n",
    "\n",
    "def createPanel(vs,y):\n",
    "    cs = [[1,2,3,4],[2,3,6,7],[5,6,7,8],[1,8,5,4],[9,10,11,12]]\n",
    "    panel = MKPOL([vs,cs,None])\n",
    "    panel = OFFSET([0,y,0])(panel)\n",
    "    \n",
    "    return panel"
   ]
  },
  {
   "cell_type": "markdown",
   "metadata": {},
   "source": [
    "Output:\n",
    "![alt text](panel.png \"Title\")\n",
    "\n",
    "Function to create the glazing."
   ]
  },
  {
   "cell_type": "code",
   "execution_count": 5,
   "metadata": {
    "collapsed": false
   },
   "outputs": [],
   "source": [
    "def createGlazing(vs,y):\n",
    "    cs = [[4,5,11,9],[3,6,12,10]]\n",
    "    glass = MKPOL([vs,cs,None])\n",
    "    glass = COLOR(GRAY)(OFFSET([0,y,0])(glass))\n",
    "    return glass    "
   ]
  },
  {
   "cell_type": "markdown",
   "metadata": {},
   "source": [
    "Output:\n",
    "![alt text](glazing.png \"Title\")\n",
    "\n",
    "Function to create moldings."
   ]
  },
  {
   "cell_type": "code",
   "execution_count": 46,
   "metadata": {
    "collapsed": false
   },
   "outputs": [],
   "source": [
    "def createMoldings(x,p,z,dist,y):\n",
    "    \n",
    "    \n",
    "    lenX = (x - 2*p)/3.0\n",
    "    \n",
    "    vs = [(0,0,0),(0,0,z-3*p),(2*lenX,0,z-3*p),(lenX,0,0),(lenX,0,z-5*p),(2*lenX,0,z-5*p)] \n",
    "    cs = [[1,2],[2,3]]\n",
    "    um1 = MKPOL([vs,cs,None])\n",
    "    um1 = OFFSET([p/2.0,y/2.0-y/6.0,p/2.0])(um1)\n",
    "    cs = [[4,5],[5,6]]\n",
    "    um2 = MKPOL([vs,cs,None])\n",
    "    um2 = OFFSET([p/2.0,y/2.0-y/6.0,p/2.0])(um2)\n",
    "    moldings = STRUCT([um1,um2])\n",
    "    return moldings\n",
    "    "
   ]
  },
  {
   "cell_type": "markdown",
   "metadata": {},
   "source": [
    "Output:\n",
    "![alt text](moldings.png \"Title\")\n",
    "\n",
    "Function to create the door (left and right door)."
   ]
  },
  {
   "cell_type": "code",
   "execution_count": 74,
   "metadata": {
    "collapsed": false
   },
   "outputs": [],
   "source": [
    "def createDoor(x,y,z):\n",
    "        \n",
    "    p = 0.6\n",
    "    dist = z/4.0\n",
    "    vs = [(0,0,0),(0,0,z),(p,0,z-p),(p,0,p),(x-p,0,p),(x-p,0,z-p),(x,0,z),(x,0,0),(p,0,dist),(p,0,dist+p),(x-p,0,dist),(x-p,0,dist+p),()]\n",
    "    \n",
    "    panel = createPanel(vs,y)\n",
    "    VIEW(panel)\n",
    "    glazing = createGlazing(vs,y/3.0)\n",
    "    VIEW(glazing)\n",
    "    moldings = createMoldings(x,p,z,dist,y)\n",
    "    ldoor = STRUCT([panel,T(2)(y/2.0-y/6.0),glazing])\n",
    "    ldoor = STRUCT([ldoor,T(1)(x/3.0),moldings])\n",
    "    VIEW(ldoor)\n",
    "    \n",
    "    moldings = R([1,2])(pi)(moldings)\n",
    "    rdoor = STRUCT([panel,T(2)(y/2.0-y/6.0),glazing])\n",
    "    rdoor = STRUCT([rdoor,T(1)(2.05*x/3.0),T(2)(y/3.0),moldings])\n",
    "    \n",
    "    door = STRUCT([ldoor,T(1)(x),rdoor])\n",
    "    \n",
    "\n",
    "    return door"
   ]
  },
  {
   "cell_type": "markdown",
   "metadata": {},
   "source": [
    "Output:\n",
    "![alt text](door.png \"Title\")"
   ]
  },
  {
   "cell_type": "code",
   "execution_count": 72,
   "metadata": {
    "collapsed": false
   },
   "outputs": [
    {
     "data": {
      "text/plain": [
       "<pyplasm.xgepy.Hpc; proxy of <Swig Object of type 'std::shared_ptr< Hpc > *' at 0x000000000B7946F0> >"
      ]
     },
     "execution_count": 72,
     "metadata": {},
     "output_type": "execute_result"
    }
   ],
   "source": [
    "dx = 5\n",
    "dy = 1\n",
    "dz = 10\n",
    "door = createDoor(dx,dy,dz)\n",
    "VIEW(door)"
   ]
  },
  {
   "cell_type": "code",
   "execution_count": null,
   "metadata": {
    "collapsed": true
   },
   "outputs": [],
   "source": []
  }
 ],
 "metadata": {
  "kernelspec": {
   "display_name": "Python 2",
   "language": "python",
   "name": "python2"
  },
  "language_info": {
   "codemirror_mode": {
    "name": "ipython",
    "version": 2
   },
   "file_extension": ".py",
   "mimetype": "text/x-python",
   "name": "python",
   "nbconvert_exporter": "python",
   "pygments_lexer": "ipython2",
   "version": "2.7.12"
  }
 },
 "nbformat": 4,
 "nbformat_minor": 1
}
