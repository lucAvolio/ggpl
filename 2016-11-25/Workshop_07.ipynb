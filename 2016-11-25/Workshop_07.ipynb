{
 "cells": [
  {
   "cell_type": "markdown",
   "metadata": {},
   "source": [
    "# Design of japanes joor and window"
   ]
  },
  {
   "cell_type": "markdown",
   "metadata": {},
   "source": [
    "Enumerative representation with variable resolution to build some 3D objects.\n",
    "\n",
    "We are going to create a modern japanese door. The model is in the image below.\n",
    "![alt text](doorModel.jpg \"Title\")\n",
    "Function to create the door."
   ]
  },
  {
   "cell_type": "code",
   "execution_count": 1,
   "metadata": {
    "collapsed": false
   },
   "outputs": [
    {
     "name": "stdout",
     "output_type": "stream",
     "text": [
      "Evaluating fenvs.py..\n",
      "...fenvs.py imported in 0.0481966251243 seconds\n"
     ]
    },
    {
     "name": "stderr",
     "output_type": "stream",
     "text": [
      "c:\\program files\\python27\\lib\\site-packages\\larlib\\larstruct.py:233: FutureWarning: comparison to `None` will result in an elementwise object comparison in the future.\n",
      "  self.body = [item for item in data if item != None]\n"
     ]
    }
   ],
   "source": [
    "from larlib import *\n",
    "\n",
    "def createDoor(xA,yA,zA,bA,zVal,xVal):\n",
    "    \"\"\"\n",
    "    Function to create the door.\n",
    "    \n",
    "    Args:\n",
    "    xA: distances between adjacent cutting lines (x axis)\n",
    "    yA: distances between adjacent cutting lines (y axis)\n",
    "    zA: distances between adjacent cutting lines (z axis)\n",
    "    bA: array with 3 indices to encode the labels (empty/full) of the space partition cells\n",
    "    zval: glass' dimension (z axis)\n",
    "    xval: glass' dimension (x axis)\n",
    "    \n",
    "    Returns:\n",
    "    3D value of type HPC representing the door.\n",
    "    \"\"\"\n",
    "    \n",
    "    building = []\n",
    "    \n",
    "    x = 0\n",
    "    for i in range(0,len(bA)):\n",
    "        y = 0\n",
    "        for j in range(0,len(bA[i])):\n",
    "            z = 0\n",
    "            for l in range(0,len(bA[i][j])):\n",
    "                if (bA[i][j][l]):\n",
    "                    tmp = []\n",
    "                    if (zA[l]==zVal and xA[i]==xVal):\n",
    "                        tmp = CUBOID([xA[i],yA[j],zA[l]])\n",
    "                    else:\n",
    "                        tmp = COLOR(BROWN)(CUBOID([xA[i],yA[j],zA[l]]))\n",
    "                    building.append(T([1,2,3])([x,y,z])(tmp))\n",
    "                z += zA[l]\n",
    "            y += yA[j]\n",
    "        x += xA[i]\n",
    "    \n",
    "    door = STRUCT(building)\n",
    "    return door"
   ]
  },
  {
   "cell_type": "markdown",
   "metadata": {},
   "source": [
    "Output:\n",
    "![alt text](doorres.png \"Title\")\n",
    "\n",
    "<b>List of variables:</b>\n",
    "<ul>building: array of HPC elements</ul>\n",
    "<ul>tmp: cuboid with specified measures</ul>\n",
    "<ul>x: distance from x axis</ul>\n",
    "<ul>y: distance from y axis</ul>\n",
    "<ul>z: distance from z axis</ul>\n",
    "\n",
    "We are going to create a modern japanese window. The model is in the image below.\n",
    "![alt text](window.jpg \"Title\")\n",
    "Function to create the window."
   ]
  },
  {
   "cell_type": "code",
   "execution_count": 7,
   "metadata": {
    "collapsed": false
   },
   "outputs": [],
   "source": [
    "def createWindow(xA,yA,zA,bA,yVal,xVal1,xVal2,xVal3,zVal1,zVal2):\n",
    "    \"\"\"\n",
    "    Function to create a modern japanese window.\n",
    "    \n",
    "    Args:\n",
    "    xA: distances between adjacent cutting lines (x axis)\n",
    "    yA: distances between adjacent cutting lines (y axis)\n",
    "    zA: distances between adjacent cutting lines (z axis)\n",
    "    bA: array with 3 indices to encode the labels (empty/full) of the space partition cells\n",
    "    yVal: glass' dimension (y axis)\n",
    "    xVal1,xVal2,xVal3: glass' dimension (x axis)\n",
    "    zVal1,zVal2: glass' dimension (z axis)\n",
    "    \n",
    "    Returns:\n",
    "    3D value of type HPC representing the window.\n",
    "    \"\"\"    \n",
    "    \n",
    "    building = []\n",
    "    \n",
    "    x = 0\n",
    "    for i in range(0,len(bA)):\n",
    "        y = 0\n",
    "        for j in range(0,len(bA[i])):\n",
    "            z = 0\n",
    "            for l in range(0,len(bA[i][j])):\n",
    "                if (bA[i][j][l]):\n",
    "                    tmp = []\n",
    "                    if (yA[j]==yVal and (xA[i]==xVal1 or xA[i]==xVal2 or xA[i]==xVal3) and (zA[l]==zVal1 or zA[l]==zVal2)):\n",
    "                        tmp = CUBOID([xA[i],yA[j],zA[l]])\n",
    "                    else:\n",
    "                        tmp = COLOR(BROWN)(CUBOID([xA[i],yA[j],zA[l]]))\n",
    "                    building.append(T([1,2,3])([x,y,z])(tmp))\n",
    "                z += zA[l]\n",
    "            y += yA[j]\n",
    "        x += xA[i]\n",
    "    \n",
    "    window = STRUCT(building)\n",
    "    return window"
   ]
  },
  {
   "cell_type": "markdown",
   "metadata": {},
   "source": [
    "Output:\n",
    "![alt text](windowres.png \"Title\")\n",
    "<b>List of variables:</b>\n",
    "<ul>building: array of HPC elements</ul>\n",
    "<ul>tmp: cuboid with specified measures</ul>\n",
    "<ul>x: distance from x axis</ul>\n",
    "<ul>y: distance from y axis</ul>\n",
    "<ul>z: distance from z axis</ul>"
   ]
  },
  {
   "cell_type": "code",
   "execution_count": 21,
   "metadata": {
    "collapsed": false
   },
   "outputs": [
    {
     "data": {
      "text/plain": [
       "<pyplasm.xgepy.Hpc; proxy of <Swig Object of type 'std::shared_ptr< Hpc > *' at 0x000000000CC23330> >"
      ]
     },
     "execution_count": 21,
     "metadata": {},
     "output_type": "execute_result"
    }
   ],
   "source": [
    "Xarray = [0.52,1.0,0.52]\n",
    "Yarray = [0.28,0.4,0.28]\n",
    "Zarray = [0.36,0.28,0.44,0.28,0.44,0.28,0.44,0.28,0.44,0.28,0.44,0.28,0.36]\n",
    "\n",
    "BoolArray = [\n",
    "    [\n",
    "        [True,True,True,True,True,True,True,True,True,True,True,True,True], #X1,Y1,Zi\n",
    "        [True,True,True,True,True,True,True,True,True,True,True,True,True], #X1,Y2,Zi\n",
    "        [True,True,True,True,True,True,True,True,True,True,True,True,True]  #X1,Y3,Zi\n",
    "    ],\n",
    "    [\n",
    "        [True,False,False,False,False,False,False,False,False,False,False,False,True],  #X2,Y1,Zi\n",
    "        [True,True,True,True,True,True,True,True,True,True,True,True,True],  #X2,Y2,Zi\n",
    "        [True,False,False,False,False,False,False,False,False,False,False,False,True] #X2,Y3,Zi\n",
    "    ],\n",
    "    [\n",
    "        [True,True,True,True,True,True,True,True,True,True,True,True,True], #X3,Y1,Zi\n",
    "        [True,True,True,True,True,True,True,True,True,True,True,True,True], #X3,Y2,Zi\n",
    "        [True,True,True,True,True,True,True,True,True,True,True,True,True]  #X3,Y3,Zi\n",
    "    ]\n",
    "]\n",
    "\n",
    "dXarray = [0.055,0.3,0.01,0.05,0.01,0.3,0.055]\n",
    "dYarray = [0.01,0.02,0.02,0.05,0.01]\n",
    "dZarray = [0.05,0.15,0.01,0.15,0.01,0.15,0.01,0.15,0.01,0.15,0.05]\n",
    "dBool = [\n",
    "    [\n",
    "        [True,True,True,True,True,True,True,True,True,True,True], #X1,Y1,Zi\n",
    "        [True,True,True,True,True,True,True,True,True,True,True], #X1,Y2,Zi\n",
    "        [True,True,True,True,True,True,True,True,True,True,True], #X1,Y3,Zi\n",
    "        [True,True,True,True,True,True,True,True,True,True,True], #X1,Y4,Zi\n",
    "        [True,True,True,True,True,True,True,True,True,True,True]  #X1,Y5,Zi   \n",
    "    ],\n",
    "    [\n",
    "        [True,False,False,False,False,False,False,False,False,False,True], #X2,Y1,Zi\n",
    "        [True,False,False,False,False,False,False,False,False,False,True], #X2,Y2,Zi\n",
    "        [True,False,True,False,True,False,True,False,True,False,True], #X2,Y3,Zi\n",
    "        [True,True,True,True,True,True,True,True,True,True,True], #X2,Y4,Zi\n",
    "        [True,False,False,False,False,False,False,False,False,False,True] #X2,Y5,Zi\n",
    "    ],\n",
    "    [\n",
    "        [True,False,False,False,False,False,False,False,False,False,True], #X2,Y1,Zi\n",
    "        [True,True,True,True,True,True,True,True,True,True,True], #X2,Y2,Zi\n",
    "        [True,False,True,False,True,False,True,False,True,False,True], #X2,Y3,Zi\n",
    "        [True,True,True,True,True,True,True,True,True,True,True], #X2,Y4,Zi\n",
    "        [True,False,False,False,False,False,False,False,False,False,True] #X2,Y5,Zi\n",
    "    ],\n",
    "    [\n",
    "        [True,False,False,False,False,False,False,False,False,False,True], #X2,Y1,Zi\n",
    "        [True,False,False,False,False,False,False,False,False,False,True], #X2,Y2,Zi\n",
    "        [True,False,True,False,True,False,True,False,True,False,True], #X2,Y3,Zi\n",
    "        [True,True,True,True,True,True,True,True,True,True,True], #X2,Y4,Zi\n",
    "        [True,False,False,False,False,False,False,False,False,False,True] #X2,Y5,Zi        \n",
    "    ],\n",
    "    [\n",
    "        [True,False,False,False,False,False,False,False,False,False,True], #X2,Y1,Zi\n",
    "        [True,True,True,True,True,True,True,True,True,True,True], #X2,Y2,Zi\n",
    "        [True,False,True,False,True,False,True,False,True,False,True], #X2,Y3,Zi\n",
    "        [True,True,True,True,True,True,True,True,True,True,True], #X2,Y4,Zi\n",
    "        [True,False,False,False,False,False,False,False,False,False,True] #X2,Y5,Zi\n",
    "    ],\n",
    "    [\n",
    "        [True,False,False,False,False,False,False,False,False,False,True], #X2,Y1,Zi\n",
    "        [True,False,False,False,False,False,False,False,False,False,True], #X2,Y2,Zi\n",
    "        [True,False,True,False,True,False,True,False,True,False,True], #X2,Y3,Zi\n",
    "        [True,True,True,True,True,True,True,True,True,True,True], #X2,Y4,Zi\n",
    "        [True,False,False,False,False,False,False,False,False,False,True] #X2,Y5,Zi\n",
    "    ],\n",
    "    [\n",
    "        [True,True,True,True,True,True,True,True,True,True,True], #X1,Y1,Zi\n",
    "        [True,True,True,True,True,True,True,True,True,True,True], #X1,Y2,Zi\n",
    "        [True,True,True,True,True,True,True,True,True,True,True], #X1,Y3,Zi\n",
    "        [True,True,True,True,True,True,True,True,True,True,True], #X1,Y4,Zi\n",
    "        [True,True,True,True,True,True,True,True,True,True,True]  #X1,Y5,Zi   \n",
    "    ]\n",
    "]\n",
    "\n",
    "door = createDoor(Xarray,Yarray,Zarray,BoolArray,Zarray[1],Xarray[1])\n",
    "VIEW(door)\n",
    "window = createWindow(dXarray,dYarray,dZarray,dBool,dYarray[3],dXarray[1],dXarray[2],dXarray[3],dZarray[1],dZarray[2])\n",
    "VIEW(window)"
   ]
  },
  {
   "cell_type": "markdown",
   "metadata": {
    "collapsed": true
   },
   "source": [
    "Other examples with different parameters:\n",
    "![alt text](ex1.png \"Title\")\n",
    "![alt text](ex2.png \"Title\")"
   ]
  },
  {
   "cell_type": "code",
   "execution_count": null,
   "metadata": {
    "collapsed": true
   },
   "outputs": [],
   "source": []
  }
 ],
 "metadata": {
  "celltoolbar": "Edit Metadata",
  "kernelspec": {
   "display_name": "Python 2",
   "language": "python",
   "name": "python2"
  },
  "language_info": {
   "codemirror_mode": {
    "name": "ipython",
    "version": 2
   },
   "file_extension": ".py",
   "mimetype": "text/x-python",
   "name": "python",
   "nbconvert_exporter": "python",
   "pygments_lexer": "ipython2",
   "version": "2.7.12"
  }
 },
 "nbformat": 4,
 "nbformat_minor": 1
}
