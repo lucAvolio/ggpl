{
 "cells": [
  {
   "cell_type": "code",
   "execution_count": null,
   "metadata": {
    "collapsed": true
   },
   "outputs": [],
   "source": []
  },
  {
   "cell_type": "code",
   "execution_count": 70,
   "metadata": {
    "collapsed": false
   },
   "outputs": [],
   "source": [
    "from pyplasm import *\n",
    "import csv\n",
    "\n",
    "def ggpl_build_house():\n",
    "    with open(\"external.lines\", \"rb\") as file:\n",
    "        reader = csv.reader(file, delimiter=\",\")\n",
    "        externalWalls = []\n",
    "        for row in reader:\n",
    "            externalWalls.append(POLYLINE([[float(row[0]), float(row[1])],[float(row[2]), float(row[3])]]))\n",
    "        externalWalls = STRUCT(externalWalls)\n",
    "        externalWalls = SOLIDIFY(externalWalls)\n",
    "        externalWalls = PROD([externalWalls, Q(400.0)])\n",
    "        externalWalls = TEXTURE(\"wallTexture.jpg\")(externalWalls)\n",
    "\n",
    "    with open(\"internal.lines\", \"rb\") as file:\n",
    "        reader = csv.reader(file, delimiter=\",\")\n",
    "        internalWalls = []\n",
    "        for row in reader:\n",
    "            internalWalls.append(POLYLINE([[float(row[0]), float(row[1])],[float(row[2]), float(row[3])]]))\n",
    "        internalWalls = STRUCT(internalWalls)\n",
    "        internalWalls = SOLIDIFY(internalWalls)\n",
    "        internalWalls = PROD([internalWalls, Q(400.0)])\n",
    "        internalWalls = TEXTURE(\"wallTexture.jpg\")(internalWalls)\n",
    "\n",
    "    with open(\"doors.lines\", \"rb\") as file:\n",
    "        reader = csv.reader(file, delimiter=\",\")\n",
    "        doors = []\n",
    "        upperWall = []\n",
    "        for row in reader:\n",
    "            doors.append(POLYLINE([[float(row[0]), float(row[1])],[float(row[2]), float(row[3])]]))\n",
    "            upperWall.append(POLYLINE([[float(row[0]), float(row[1])],[float(row[2]), float(row[3])]]))\n",
    "        doors = STRUCT(doors)\n",
    "        doors = SOLIDIFY(doors)\n",
    "        doors = COLOR(BROWN)(PROD([doors, Q(300.0)]))\n",
    "        upperWall = STRUCT(upperWall)\n",
    "        upperWall = PROD([upperWall,Q(100.0)])\n",
    "        upperWall = SOLIDIFY(upperWall)\n",
    "        upperWall = TEXTURE(\"wallTexture.jpg\")(upperWall)\n",
    "        doors = STRUCT([doors,T(3)(300.0)(upperWall)])\n",
    "        doors = TEXTURE(\"doorTexture.jpg\")(doors)\n",
    "\n",
    "    with open(\"windows.lines\", \"rb\") as file:\n",
    "        reader = csv.reader(file, delimiter=\",\")\n",
    "        wall = []\n",
    "        windows = []\n",
    "        for row in reader:\n",
    "            windows.append(POLYLINE([[float(row[0]), float(row[1])],[float(row[2]), float(row[3])]]))\n",
    "            wall.append(POLYLINE([[float(row[0]), float(row[1])],[float(row[2]), float(row[3])]]))\n",
    "        windows = STRUCT(windows)\n",
    "        windows = SOLIDIFY(windows)\n",
    "        windows = COLOR(BLUE)(PROD([windows, Q(200.0)]))\n",
    "        wall = STRUCT(wall)\n",
    "        wall = PROD([wall,Q(100.0)])\n",
    "        wall = SOLIDIFY(wall)\n",
    "        windows = TEXTURE(\"windowTexture.jpg\")(windows)\n",
    "        wall = TEXTURE(\"wallTexture.jpg\")(wall)\n",
    "        windows = STRUCT([wall,T(3)(100.0),(windows),T(3)(200.00),wall])\n",
    "        \n",
    "        \n",
    "        arch = STRUCT([externalWalls,internalWalls,doors,windows])\n",
    "        VIEW(arch)\n",
    "    \n",
    "\n",
    "ggpl_build_house()"
   ]
  },
  {
   "cell_type": "code",
   "execution_count": null,
   "metadata": {
    "collapsed": true
   },
   "outputs": [],
   "source": []
  },
  {
   "cell_type": "code",
   "execution_count": null,
   "metadata": {
    "collapsed": true
   },
   "outputs": [],
   "source": []
  }
 ],
 "metadata": {
  "kernelspec": {
   "display_name": "Python 2",
   "language": "python",
   "name": "python2"
  },
  "language_info": {
   "codemirror_mode": {
    "name": "ipython",
    "version": 2
   },
   "file_extension": ".py",
   "mimetype": "text/x-python",
   "name": "python",
   "nbconvert_exporter": "python",
   "pygments_lexer": "ipython2",
   "version": "2.7.12"
  }
 },
 "nbformat": 4,
 "nbformat_minor": 1
}
