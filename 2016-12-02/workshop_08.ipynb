{
 "cells": [
  {
   "cell_type": "markdown",
   "metadata": {},
   "source": [
    "# Architectural plan"
   ]
  },
  {
   "cell_type": "markdown",
   "metadata": {},
   "source": [
    "We are going to create an architectural plan (the image below).\n",
    "![alt text](plan.jpg \"Title\")"
   ]
  },
  {
   "cell_type": "markdown",
   "metadata": {},
   "source": [
    "At first, use InkScape to get a 2D cellular complex for each part of the architecture:\n",
    "<l><ul>-external walls</ul>\n",
    "<ul>-internal walls</ul>\n",
    "<ul>-doors</ul>\n",
    "<ul>-windows</ul></l>\n",
    "Then, extract coordinates from the svg files using svg2lines (http://cvdlab.github.io/svg2lines/).\n",
    "\n",
    "Get data from every single file and build the corresponding architectural part."
   ]
  },
  {
   "cell_type": "code",
   "execution_count": 1,
   "metadata": {
    "collapsed": false
   },
   "outputs": [
    {
     "name": "stdout",
     "output_type": "stream",
     "text": [
      "Evaluating fenvs.py..\n",
      "...fenvs.py imported in 0.00813911419136 seconds\n"
     ]
    }
   ],
   "source": [
    "from pyplasm import *\n",
    "import csv\n",
    "\n",
    "def ggpl_build_house():\n",
    "    with open(\"external.lines\", \"rb\") as file:\n",
    "        reader = csv.reader(file, delimiter=\",\")\n",
    "        externalWalls = []\n",
    "        for row in reader:\n",
    "            externalWalls.append(POLYLINE([[float(row[0]), float(row[1])],[float(row[2]), float(row[3])]]))\n",
    "        externalWalls = STRUCT(externalWalls)\n",
    "        externalWalls = SOLIDIFY(externalWalls)\n",
    "        externalWalls = PROD([externalWalls, Q(400.0)])\n",
    "\n",
    "    with open(\"internal.lines\", \"rb\") as file:\n",
    "        reader = csv.reader(file, delimiter=\",\")\n",
    "        internalWalls = []\n",
    "        for row in reader:\n",
    "            internalWalls.append(POLYLINE([[float(row[0]), float(row[1])],[float(row[2]), float(row[3])]]))\n",
    "        internalWalls = STRUCT(internalWalls)\n",
    "        internalWalls = SOLIDIFY(internalWalls)\n",
    "        internalWalls = PROD([internalWalls, Q(400.0)])\n",
    "\n",
    "    with open(\"doors.lines\", \"rb\") as file:\n",
    "        reader = csv.reader(file, delimiter=\",\")\n",
    "        doors = []\n",
    "        upperWall = []\n",
    "        for row in reader:\n",
    "            doors.append(POLYLINE([[float(row[0]), float(row[1])],[float(row[2]), float(row[3])]]))\n",
    "            upperWall.append(POLYLINE([[float(row[0]), float(row[1])],[float(row[2]), float(row[3])]]))\n",
    "        doors = STRUCT(doors)\n",
    "        doors = SOLIDIFY(doors)\n",
    "        doors = PROD([doors, Q(300.0)])\n",
    "        doors = TEXTURE(\"woodTexture.jpg\")(doors)\n",
    "        upperWall = STRUCT(upperWall)\n",
    "        upperWall = PROD([upperWall,Q(100.0)])\n",
    "        upperWall = SOLIDIFY(upperWall)\n",
    "        doors = STRUCT([doors,T(3)(300.0)(upperWall)])\n",
    "        \n",
    "\n",
    "    with open(\"windows.lines\", \"rb\") as file:\n",
    "        reader = csv.reader(file, delimiter=\",\")\n",
    "        wall = []\n",
    "        windows = []\n",
    "        for row in reader:\n",
    "            windows.append(POLYLINE([[float(row[0]), float(row[1])],[float(row[2]), float(row[3])]]))\n",
    "            wall.append(POLYLINE([[float(row[0]), float(row[1])],[float(row[2]), float(row[3])]]))\n",
    "        windows = STRUCT(windows)\n",
    "        windows = SOLIDIFY(windows)\n",
    "        windows = COLOR(BLUE)(PROD([windows, Q(200.0)]))\n",
    "        wall = STRUCT(wall)\n",
    "        wall = PROD([wall,Q(100.0)])\n",
    "        wall = SOLIDIFY(wall)\n",
    "        windows = TEXTURE(\"windowTexture.jpg\")(windows)\n",
    "        windows = STRUCT([wall,T(3)(100.0),(windows),T(3)(200.00),wall])\n",
    "        \n",
    "        \n",
    "        arch = STRUCT([externalWalls,internalWalls,doors,windows])\n",
    "        return\n",
    "    \n",
    "\n",
    "arch = ggpl_build_house()\n",
    "VIEW(arch)"
   ]
  },
  {
   "cell_type": "markdown",
   "metadata": {},
   "source": [
    "External walls:\n",
    "![alt text](externalWalls.png \"Title\")\n",
    "Intenral walls:\n",
    "![alt text](internalWalls.png \"Title\")\n",
    "Doors:\n",
    "![alt text](doors.png \"Title\")\n",
    "Windows:\n",
    "![alt text](windows.png \"Title\")"
   ]
  },
  {
   "cell_type": "markdown",
   "metadata": {},
   "source": [
    "Output"
   ]
  },
  {
   "cell_type": "markdown",
   "metadata": {},
   "source": [
    "![alt text](ex1.png \"Title\")"
   ]
  },
  {
   "cell_type": "code",
   "execution_count": null,
   "metadata": {
    "collapsed": true
   },
   "outputs": [],
   "source": []
  }
 ],
 "metadata": {
  "kernelspec": {
   "display_name": "Python 2",
   "language": "python",
   "name": "python2"
  },
  "language_info": {
   "codemirror_mode": {
    "name": "ipython",
    "version": 2
   },
   "file_extension": ".py",
   "mimetype": "text/x-python",
   "name": "python",
   "nbconvert_exporter": "python",
   "pygments_lexer": "ipython2",
   "version": "2.7.12"
  }
 },
 "nbformat": 4,
 "nbformat_minor": 1
}
