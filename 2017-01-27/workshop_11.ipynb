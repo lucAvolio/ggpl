{
 "cells": [
  {
   "cell_type": "markdown",
   "metadata": {},
   "source": [
    "# Neighbordhood"
   ]
  },
  {
   "cell_type": "markdown",
   "metadata": {},
   "source": [
    "We are going to build up a multistorey house assembling plugins developed in previous projects."
   ]
  },
  {
   "cell_type": "code",
   "execution_count": 1,
   "metadata": {
    "collapsed": true
   },
   "outputs": [],
   "source": [
    "def createDoor(xA,yA,zA,bA,zVal,xVal,dx,dy,dz):\n",
    "    \"\"\"\n",
    "    Function to create the door.\n",
    "    \n",
    "    Args:\n",
    "    xA: distances between adjacent cutting lines (x axis)\n",
    "    yA: distances between adjacent cutting lines (y axis)\n",
    "    zA: distances between adjacent cutting lines (z axis)\n",
    "    bA: array with 3 indices to encode the labels (empty/full) of the space partition cells\n",
    "    zval: glass' dimension (z axis)\n",
    "    xval: glass' dimension (x axis)\n",
    "    dx: box dimension (x axis)\n",
    "    dy: box dimension (y axis)\n",
    "    dz: box dimension (z axis)\n",
    "    \n",
    "    Returns:\n",
    "    3D value of type HPC representing the door.\n",
    "    \"\"\"\n",
    "    \n",
    "    building = []\n",
    "    \n",
    "    x = 0\n",
    "    for i in range(0,len(bA)):\n",
    "        y = 0\n",
    "        for j in range(0,len(bA[i])):\n",
    "            z = 0\n",
    "            for l in range(0,len(bA[i][j])):\n",
    "                if (bA[i][j][l]):\n",
    "                    tmp = []\n",
    "                    if (zA[l]==zVal and xA[i]==xVal):\n",
    "                        tmp = COLOR(BLUE)(CUBOID([xA[i],yA[j],zA[l]]))\n",
    "                    else:\n",
    "                        tmp = COLOR(WHITE)(CUBOID([xA[i],yA[j],zA[l]]))\n",
    "                    building.append(T([1,2,3])([x,y,z])(tmp))\n",
    "                z += zA[l]\n",
    "            y += yA[j]\n",
    "        x += xA[i]\n",
    "    \n",
    "    door = STRUCT(building)\n",
    "    #door = S([1,2,3])([dx,dy,dz])(door)\n",
    "    return door"
   ]
  },
  {
   "cell_type": "code",
   "execution_count": 2,
   "metadata": {
    "collapsed": false
   },
   "outputs": [],
   "source": [
    "def door(dx,dy,dz):\n",
    "    \"\"\"\n",
    "    Function to create a door.\n",
    "    \n",
    "    Args:\n",
    "    dx: box dimension (x axis)\n",
    "    dy: box dimension (y axis)\n",
    "    dz: box dimension (z axis)\n",
    "    \n",
    "    Returns:\n",
    "    3D value of type HPC representing the door.\n",
    "    \"\"\"   \n",
    "\n",
    "    Xarray = [0.52*dx/2.04,1.0*dx/2.04,0.52*dx/2.04]\n",
    "    Yarray = [0.28*dy/0.96,0.4*dy/0.96,0.28*dy/0.96]\n",
    "    Zarray = [0.36*dz/4.6,0.28*dz/4.6,0.44*dz/4.6,0.28*dz/4.6,0.44*dz/4.6,0.28*dz/4.6,0.44*dz/4.6,0.28*dz/4.6,0.44*dz/4.6,0.28*dz/4.6,0.44*dz/4.6,0.28*dz/4.6,0.36*dz/4.6]\n",
    "\n",
    "    BoolArray = [\n",
    "        [\n",
    "            [True,True,True,True,True,True,True,True,True,True,True,True,True], #X1,Y1,Zi\n",
    "            [True,True,True,True,True,True,True,True,True,True,True,True,True], #X1,Y2,Zi\n",
    "            [True,True,True,True,True,True,True,True,True,True,True,True,True]  #X1,Y3,Zi\n",
    "        ],\n",
    "        [\n",
    "            [True,False,False,False,False,False,False,False,False,False,False,False,True],  #X2,Y1,Zi\n",
    "            [True,True,True,True,True,True,True,True,True,True,True,True,True],  #X2,Y2,Zi\n",
    "            [True,False,False,False,False,False,False,False,False,False,False,False,True] #X2,Y3,Zi\n",
    "        ],\n",
    "        [\n",
    "            [True,True,True,True,True,True,True,True,True,True,True,True,True], #X3,Y1,Zi\n",
    "            [True,True,True,True,True,True,True,True,True,True,True,True,True], #X3,Y2,Zi\n",
    "            [True,True,True,True,True,True,True,True,True,True,True,True,True]  #X3,Y3,Zi\n",
    "        ]\n",
    "    ]\n",
    "\n",
    "    dXarray = [0.055,0.3,0.01,0.05,0.01,0.3,0.055]\n",
    "    dYarray = [0.01,0.02,0.02,0.05,0.01]\n",
    "    dZarray = [0.05,0.15,0.01,0.15,0.01,0.15,0.01,0.15,0.01,0.15,0.05]\n",
    "    dBool = [\n",
    "        [\n",
    "            [True,True,True,True,True,True,True,True,True,True,True], #X1,Y1,Zi\n",
    "            [True,True,True,True,True,True,True,True,True,True,True], #X1,Y2,Zi\n",
    "            [True,True,True,True,True,True,True,True,True,True,True], #X1,Y3,Zi\n",
    "            [True,True,True,True,True,True,True,True,True,True,True], #X1,Y4,Zi\n",
    "            [True,True,True,True,True,True,True,True,True,True,True]  #X1,Y5,Zi   \n",
    "        ],\n",
    "        [\n",
    "            [True,False,False,False,False,False,False,False,False,False,True], #X2,Y1,Zi\n",
    "            [True,False,False,False,False,False,False,False,False,False,True], #X2,Y2,Zi\n",
    "            [True,False,True,False,True,False,True,False,True,False,True], #X2,Y3,Zi\n",
    "            [True,True,True,True,True,True,True,True,True,True,True], #X2,Y4,Zi\n",
    "            [True,False,False,False,False,False,False,False,False,False,True] #X2,Y5,Zi\n",
    "        ],\n",
    "        [\n",
    "            [True,False,False,False,False,False,False,False,False,False,True], #X2,Y1,Zi\n",
    "            [True,True,True,True,True,True,True,True,True,True,True], #X2,Y2,Zi\n",
    "            [True,False,True,False,True,False,True,False,True,False,True], #X2,Y3,Zi\n",
    "            [True,True,True,True,True,True,True,True,True,True,True], #X2,Y4,Zi\n",
    "            [True,False,False,False,False,False,False,False,False,False,True] #X2,Y5,Zi\n",
    "        ],\n",
    "        [\n",
    "            [True,False,False,False,False,False,False,False,False,False,True], #X2,Y1,Zi\n",
    "            [True,False,False,False,False,False,False,False,False,False,True], #X2,Y2,Zi\n",
    "            [True,False,True,False,True,False,True,False,True,False,True], #X2,Y3,Zi\n",
    "            [True,True,True,True,True,True,True,True,True,True,True], #X2,Y4,Zi\n",
    "            [True,False,False,False,False,False,False,False,False,False,True] #X2,Y5,Zi        \n",
    "        ],\n",
    "        [\n",
    "            [True,False,False,False,False,False,False,False,False,False,True], #X2,Y1,Zi\n",
    "            [True,True,True,True,True,True,True,True,True,True,True], #X2,Y2,Zi\n",
    "            [True,False,True,False,True,False,True,False,True,False,True], #X2,Y3,Zi\n",
    "            [True,True,True,True,True,True,True,True,True,True,True], #X2,Y4,Zi\n",
    "            [True,False,False,False,False,False,False,False,False,False,True] #X2,Y5,Zi\n",
    "        ],\n",
    "        [\n",
    "            [True,False,False,False,False,False,False,False,False,False,True], #X2,Y1,Zi\n",
    "            [True,False,False,False,False,False,False,False,False,False,True], #X2,Y2,Zi\n",
    "            [True,False,True,False,True,False,True,False,True,False,True], #X2,Y3,Zi\n",
    "            [True,True,True,True,True,True,True,True,True,True,True], #X2,Y4,Zi\n",
    "            [True,False,False,False,False,False,False,False,False,False,True] #X2,Y5,Zi\n",
    "        ],\n",
    "        [\n",
    "            [True,True,True,True,True,True,True,True,True,True,True], #X1,Y1,Zi\n",
    "            [True,True,True,True,True,True,True,True,True,True,True], #X1,Y2,Zi\n",
    "            [True,True,True,True,True,True,True,True,True,True,True], #X1,Y3,Zi\n",
    "            [True,True,True,True,True,True,True,True,True,True,True], #X1,Y4,Zi\n",
    "            [True,True,True,True,True,True,True,True,True,True,True]  #X1,Y5,Zi   \n",
    "        ]\n",
    "    ]\n",
    "\n",
    "    door = createDoor(Xarray,Yarray,Zarray,BoolArray,Zarray[1],Xarray[1],dx,dy,dz)\n",
    "    return door"
   ]
  },
  {
   "cell_type": "markdown",
   "metadata": {},
   "source": [
    "Output:\n",
    "![alt text](porta.png \"Title\")"
   ]
  },
  {
   "cell_type": "code",
   "execution_count": 3,
   "metadata": {
    "collapsed": true
   },
   "outputs": [],
   "source": [
    "def createWindow(xA,yA,zA,bA,yVal,xVal1,xVal2,xVal3,zVal1,zVal2,dx,dy,dz):\n",
    "    \"\"\"\n",
    "    Function to create a modern japanese window.\n",
    "    \n",
    "    Args:\n",
    "    xA: distances between adjacent cutting lines (x axis)\n",
    "    yA: distances between adjacent cutting lines (y axis)\n",
    "    zA: distances between adjacent cutting lines (z axis)\n",
    "    bA: array with 3 indices to encode the labels (empty/full) of the space partition cells\n",
    "    yVal: glass' dimension (y axis)\n",
    "    xVal1,xVal2,xVal3: glass' dimension (x axis)\n",
    "    zVal1,zVal2: glass' dimension (z axis)\n",
    "    dx: box dimension (x axis)\n",
    "    dy: box dimension (y axis)\n",
    "    dz: box dimension (z axis)\n",
    "    \n",
    "    Returns:\n",
    "    3D value of type HPC representing the window.\n",
    "    \"\"\"    \n",
    "    \n",
    "    building = []\n",
    "    \n",
    "    x = 0\n",
    "    for i in range(0,len(bA)):\n",
    "        y = 0\n",
    "        for j in range(0,len(bA[i])):\n",
    "            z = 0\n",
    "            for l in range(0,len(bA[i][j])):\n",
    "                if (bA[i][j][l]):\n",
    "                    tmp = []\n",
    "                    if (yA[j]==yVal and (xA[i]==xVal1 or xA[i]==xVal2 or xA[i]==xVal3) and (zA[l]==zVal1 or zA[l]==zVal2)):\n",
    "                        tmp = COLOR(BLUE)(CUBOID([xA[i],yA[j],zA[l]]))\n",
    "                    else:\n",
    "                        tmp = COLOR(WHITE)(CUBOID([xA[i],yA[j],zA[l]]))\n",
    "                    building.append(T([1,2,3])([x,y,z])(tmp))\n",
    "                z += zA[l]\n",
    "            y += yA[j]\n",
    "        x += xA[i]\n",
    "    \n",
    "    window = STRUCT(building)\n",
    "    #window = S([1,2,3])([dx,dy,dz])(window)\n",
    "    return window"
   ]
  },
  {
   "cell_type": "code",
   "execution_count": 4,
   "metadata": {
    "collapsed": true
   },
   "outputs": [],
   "source": [
    "def window(dx,dy,dz):\n",
    "    \"\"\"\n",
    "    Function to create a modern japanese window.\n",
    "    \n",
    "    Args:\n",
    "    dx: box dimension (x axis)\n",
    "    dy: box dimension (y axis)\n",
    "    dz: box dimension (z axis)\n",
    "    \n",
    "    Returns:\n",
    "    3D value of type HPC representing the window.\n",
    "    \"\"\"   \n",
    "    dXarray = [0.055*dx/0.78,0.3*dx/0.78,0.01*dx/0.78,0.05*dx/0.78,0.01*dx/0.78,0.3*dx/0.78,0.055*dx/0.78]\n",
    "    dYarray = [0.01*dy/0.11,0.02*dy/0.11,0.02*dy/0.11,0.05*dy/0.11,0.01*dy/0.11]\n",
    "    dZarray = [0.05*dz/0.89,0.15*dz/0.89,0.01*dz/0.89,0.15*dz/0.89,0.01*dz/0.89,0.15*dz/0.89,0.01*dz/0.89,0.15*dz/0.89,0.01*dz/0.89,0.15*dz/0.89,0.05*dz/0.89]\n",
    "    dBool = [\n",
    "        [\n",
    "            [True,True,True,True,True,True,True,True,True,True,True], #X1,Y1,Zi\n",
    "            [True,True,True,True,True,True,True,True,True,True,True], #X1,Y2,Zi\n",
    "            [True,True,True,True,True,True,True,True,True,True,True], #X1,Y3,Zi\n",
    "            [True,True,True,True,True,True,True,True,True,True,True], #X1,Y4,Zi\n",
    "            [True,True,True,True,True,True,True,True,True,True,True]  #X1,Y5,Zi   \n",
    "        ],\n",
    "        [\n",
    "            [True,False,False,False,False,False,False,False,False,False,True], #X2,Y1,Zi\n",
    "            [True,False,False,False,False,False,False,False,False,False,True], #X2,Y2,Zi\n",
    "            [True,False,True,False,True,False,True,False,True,False,True], #X2,Y3,Zi\n",
    "            [True,True,True,True,True,True,True,True,True,True,True], #X2,Y4,Zi\n",
    "            [True,False,False,False,False,False,False,False,False,False,True] #X2,Y5,Zi\n",
    "        ],\n",
    "        [\n",
    "            [True,False,False,False,False,False,False,False,False,False,True], #X2,Y1,Zi\n",
    "            [True,True,True,True,True,True,True,True,True,True,True], #X2,Y2,Zi\n",
    "            [True,False,True,False,True,False,True,False,True,False,True], #X2,Y3,Zi\n",
    "            [True,True,True,True,True,True,True,True,True,True,True], #X2,Y4,Zi\n",
    "            [True,False,False,False,False,False,False,False,False,False,True] #X2,Y5,Zi\n",
    "        ],\n",
    "        [\n",
    "            [True,False,False,False,False,False,False,False,False,False,True], #X2,Y1,Zi\n",
    "            [True,False,False,False,False,False,False,False,False,False,True], #X2,Y2,Zi\n",
    "            [True,False,True,False,True,False,True,False,True,False,True], #X2,Y3,Zi\n",
    "            [True,True,True,True,True,True,True,True,True,True,True], #X2,Y4,Zi\n",
    "            [True,False,False,False,False,False,False,False,False,False,True] #X2,Y5,Zi        \n",
    "        ],\n",
    "        [\n",
    "            [True,False,False,False,False,False,False,False,False,False,True], #X2,Y1,Zi\n",
    "            [True,True,True,True,True,True,True,True,True,True,True], #X2,Y2,Zi\n",
    "            [True,False,True,False,True,False,True,False,True,False,True], #X2,Y3,Zi\n",
    "            [True,True,True,True,True,True,True,True,True,True,True], #X2,Y4,Zi\n",
    "            [True,False,False,False,False,False,False,False,False,False,True] #X2,Y5,Zi\n",
    "        ],\n",
    "        [\n",
    "            [True,False,False,False,False,False,False,False,False,False,True], #X2,Y1,Zi\n",
    "            [True,False,False,False,False,False,False,False,False,False,True], #X2,Y2,Zi\n",
    "            [True,False,True,False,True,False,True,False,True,False,True], #X2,Y3,Zi\n",
    "            [True,True,True,True,True,True,True,True,True,True,True], #X2,Y4,Zi\n",
    "            [True,False,False,False,False,False,False,False,False,False,True] #X2,Y5,Zi\n",
    "        ],\n",
    "        [\n",
    "            [True,True,True,True,True,True,True,True,True,True,True], #X1,Y1,Zi\n",
    "            [True,True,True,True,True,True,True,True,True,True,True], #X1,Y2,Zi\n",
    "            [True,True,True,True,True,True,True,True,True,True,True], #X1,Y3,Zi\n",
    "            [True,True,True,True,True,True,True,True,True,True,True], #X1,Y4,Zi\n",
    "            [True,True,True,True,True,True,True,True,True,True,True]  #X1,Y5,Zi   \n",
    "        ]\n",
    "    ]\n",
    "    window = createWindow(dXarray,dYarray,dZarray,dBool,dYarray[3],dXarray[1],dXarray[2],dXarray[3],dZarray[1],dZarray[2],5,5,5)\n",
    "    return window"
   ]
  },
  {
   "cell_type": "markdown",
   "metadata": {},
   "source": [
    "Output:\n",
    "![alt text](finestra.png \"Title\")"
   ]
  },
  {
   "cell_type": "markdown",
   "metadata": {},
   "source": [
    "Function to build frame"
   ]
  },
  {
   "cell_type": "code",
   "execution_count": 5,
   "metadata": {
    "collapsed": false
   },
   "outputs": [],
   "source": [
    "def buildFrame():\n",
    "    beamPoints = []\n",
    "    beams = []\n",
    "    with open(\"muri.lines\", \"rb\") as file:\n",
    "        reader = csv.reader(file, delimiter=\",\")\n",
    "        pillars = []\n",
    "        beamPoints = []\n",
    "        i = 0\n",
    "        for row in reader:\n",
    "            if (i==0 or i == 3 or i==8):\n",
    "                x = float(row[2])\n",
    "                y = float(row[1])\n",
    "                pillar = CUBOID([10,10,200])\n",
    "                pillars.append(T([1,2])([x,y])(pillar))\n",
    "                elem = [x,y] \n",
    "                beamPoints.append(elem)\n",
    "            if (i == 2 or i == 6 or i == 10):\n",
    "                x = float(row[2])\n",
    "                y = float(row[3])\n",
    "                pillar = CUBOID([10,10,200])\n",
    "                pillars.append(T([1,2])([x,y])(pillar))\n",
    "                elem = [x,y]\n",
    "                beamPoints.append(elem)\n",
    "            i = i+1\n",
    "        pillars = STRUCT(pillars)\n",
    "    \n",
    "    for i in range(len(beamPoints)-1):\n",
    "        distance = 0\n",
    "        final = 0\n",
    "        init = 0\n",
    "        if(i%2 == 0):\n",
    "            final = beamPoints[i+1][1]\n",
    "            init = beamPoints[i][1] +10\n",
    "        else:\n",
    "            final = beamPoints[i+1][0] +10\n",
    "            init = beamPoints[i][0]\n",
    "        distance = final - init\n",
    "        beam = CUBOID([10,10,distance])\n",
    "        if (i%2 == 0):\n",
    "            beam = R([2,3])(PI/2.0)(beam)\n",
    "            beams.append(T([1,2,3])([beamPoints[i][0],final,200])(beam))\n",
    "        else:\n",
    "            beam = R([3,1])(PI/2.0)(beam)\n",
    "            final = beamPoints[i][1]\n",
    "            beams.append(T([1,2,3])([beamPoints[i][0],final,210])(beam))\n",
    "    final,init = beamPoints[4][0],beamPoints[0][0] \n",
    "    distance = final - init\n",
    "    beam = CUBOID([10,10,distance])\n",
    "    beam = R([3,1])(PI/2.0)(beam)\n",
    "    beams.append(T([1,2,3])([init,beamPoints[0][1], 210])(beam))\n",
    "    beams = STRUCT(beams)\n",
    "    \n",
    "    pillars = STRUCT([pillars,beams])\n",
    "    #VIEW(pillars)                \n",
    "    return pillars"
   ]
  },
  {
   "cell_type": "markdown",
   "metadata": {},
   "source": [
    "Output:\n",
    "![alt text](scheletro.png \"Title\")"
   ]
  },
  {
   "cell_type": "code",
   "execution_count": 6,
   "metadata": {
    "collapsed": false
   },
   "outputs": [
    {
     "name": "stdout",
     "output_type": "stream",
     "text": [
      "Evaluating fenvs.py..\n",
      "...fenvs.py imported in 0.00520283842505 seconds\n"
     ]
    }
   ],
   "source": [
    "from pyplasm import *\n",
    "from numpy import *\n",
    "import csv\n",
    "\n",
    "def ggpl_build_house():\n",
    "    \n",
    "    \n",
    "    with open(\"muri.lines\", \"rb\") as file:\n",
    "        reader = csv.reader(file, delimiter=\",\")\n",
    "        externalWalls = []\n",
    "        \n",
    "        xpi = 0  #per la dimensione della porta\n",
    "        xpf = 0  #per la dimensione della porta\n",
    "        j = 1\n",
    "        for row in reader: \n",
    "            xf = float(row[0])\n",
    "            xi = float(row[2])\n",
    "            yf = float(row[1])\n",
    "            yi = float(row[3])\n",
    "            if (j==1): #muro a destra della porta\n",
    "                xpf = xf\n",
    "            if (j==11): #muro a sinistra della porta\n",
    "                \n",
    "                xpi = xi\n",
    "            j +=1\n",
    "            externalWalls.append(OFFSET([10.0,10.0])(POLYLINE([[xf, yf],[xi, yi]])))\n",
    "        externalWalls = STRUCT(externalWalls)\n",
    "        externalWalls = COLOR(BROWN)(PROD([externalWalls, Q(200.0)]))\n",
    "    \n",
    "    with open(\"porte.lines\",\"rb\") as file:\n",
    "        reader = csv.reader(file,delimiter=\",\")\n",
    "        j = 1\n",
    "        for row in reader:\n",
    "            if (j==1):\n",
    "                xf = float(row[0])\n",
    "                xi = float(row[2])\n",
    "                yi = float(row[3])\n",
    "            j += 1\n",
    "        doorDimension = xi-xf+10\n",
    "        doorElement = door(doorDimension,10.0,180.0)\n",
    "        upperWall = COLOR(BROWN)(CUBOID([doorDimension,10.0,20]))\n",
    "        doorElement = STRUCT([doorElement,T(3)(180.0),(upperWall)])\n",
    "        \n",
    "        arch = STRUCT([externalWalls,T(1)(xf),T(2)(yi),doorElement])\n",
    "        #VIEW(arch)\n",
    "        \n",
    "    with open(\"finestre.lines\",\"rb\") as file:\n",
    "        reader = csv.reader(file,delimiter=\",\")\n",
    "        elem = []\n",
    "        for row in reader:\n",
    "            orientation = row[0]\n",
    "            xi = 0\n",
    "            yi = 0\n",
    "            xf = 0\n",
    "            yf = 0\n",
    "            wDimension = 0\n",
    "            if(orientation == \"u\"):\n",
    "                xi = float(row[1])\n",
    "                yi = float(row[2])\n",
    "                xf = float(row[3])\n",
    "                wDimension = xf - xi\n",
    "            if(orientation == \"l\" or orientation == \"r\"):\n",
    "                yf = float(row[2])\n",
    "                yi = float(row[4])\n",
    "                xi = float(row[3])\n",
    "                wDimension = yf-yi                \n",
    "            elem = window(wDimension,10.0,100.0)\n",
    "            wall = COLOR(BROWN)(CUBOID([wDimension,10.0,50.0]))\n",
    "            windowElem = STRUCT([wall,T(3)(50.0),elem,T(3)(100.0),wall])\n",
    "            if(orientation == \"l\"):\n",
    "                windowElem = R([1,2])(-PI/2.0)(windowElem)\n",
    "                yi = yf\n",
    "            if(orientation == \"r\"):\n",
    "                windowElem = R([1,2])(PI/2.0)(windowElem)\n",
    "                #xi = xi\n",
    "            elem = STRUCT([T(1)(xi),T(2)(yi),windowElem])\n",
    "            arch = STRUCT([arch,elem])\n",
    "            \n",
    "    return arch"
   ]
  },
  {
   "cell_type": "markdown",
   "metadata": {},
   "source": [
    "Output:\n",
    "![alt text](casaParziale.png \"Title\")"
   ]
  },
  {
   "cell_type": "markdown",
   "metadata": {},
   "source": [
    "Build floor    "
   ]
  },
  {
   "cell_type": "code",
   "execution_count": 7,
   "metadata": {
    "collapsed": false
   },
   "outputs": [],
   "source": [
    "def buildFloor():    \n",
    "    beamPoints = []\n",
    "    beams = []\n",
    "    with open(\"muri.lines\", \"rb\") as file:\n",
    "        reader = csv.reader(file, delimiter=\",\")\n",
    "        beamPoints = []\n",
    "        i = 0\n",
    "        for row in reader:\n",
    "            if (i==0 or i == 3 or i==8):\n",
    "                x = float(row[2])\n",
    "                y = float(row[1])\n",
    "                elem = [x,y] \n",
    "                beamPoints.append(elem)\n",
    "            if (i == 2 or i == 6 or i == 10):\n",
    "                x = float(row[2])\n",
    "                y = float(row[3])\n",
    "                elem = [x,y]\n",
    "                beamPoints.append(elem)\n",
    "            i = i+1\n",
    "    b = []\n",
    "    tmp = []\n",
    "    for i in range(len(beamPoints)):\n",
    "        if (i<4):\n",
    "            b.append(beamPoints[i])\n",
    "        else:\n",
    "            tmp.append(beamPoints[i])\n",
    "        i = i+1\n",
    "    b.append(tmp[1])\n",
    "    b.append(tmp[0])\n",
    "    b.append(b[0])\n",
    "    floor= TEXTURE(\"floorTexture.jpg\")(MKPOL([b,[[3,4,5,6],[1,2,3,6]],None]))\n",
    "    \n",
    "\n",
    "    return floor"
   ]
  },
  {
   "cell_type": "markdown",
   "metadata": {},
   "source": [
    "Output:\n",
    "![alt text](pavimento.png \"Title\")"
   ]
  },
  {
   "cell_type": "markdown",
   "metadata": {},
   "source": [
    "Stair"
   ]
  },
  {
   "cell_type": "code",
   "execution_count": 8,
   "metadata": {
    "collapsed": true
   },
   "outputs": [],
   "source": [
    "def createPlatform(xy,z,height):\n",
    "    \"\"\"\n",
    "    Function to create a platform\n",
    "    \n",
    "    Args:\n",
    "    xy: depth and width of the platform (x axis, y axis)\n",
    "    z: height of the platform (z axis)\n",
    "    height: total height\n",
    "\n",
    "    Returns:\n",
    "     3D value of type HPC representing a step\n",
    "    \"\"\"\n",
    "    platform = COLOR(BROWN)(CUBOID([xy,xy,z]))\n",
    "    platform = STRUCT([T(3)(height),platform])\n",
    "    base = CUBOID([xy/2.0-z,z,height])\n",
    "    base1 = STRUCT([T(1)(0.2),T(2)(xy/2.0 - z),base])\n",
    "    base2 = CUBOID([z,xy/2.0+z,height])\n",
    "    base2 = STRUCT([T(2)(xy/2.0-z),T(1)(xy/2.0 - z),base2])\n",
    "    pillar = CUBOID([z,z,height+z])\n",
    "    pillar = STRUCT([T(2)(xy),T(1)(xy/2.0 - z),pillar])\n",
    "    \n",
    "    pl = STRUCT([platform,base1, base2, pillar])\n",
    "    return pl   "
   ]
  },
  {
   "cell_type": "code",
   "execution_count": 9,
   "metadata": {
    "collapsed": true
   },
   "outputs": [],
   "source": [
    "def createStep(x,y,z,height):\n",
    "    \"\"\"\n",
    "    Function to create a step\n",
    "    \n",
    "    Args:\n",
    "    x: depth of the step (x axis )\n",
    "    y: width of the step (y axis)\n",
    "    z: height of the step (z axis)\n",
    "    height: total height\n",
    "\n",
    "    Returns:\n",
    "     3D value of type HPC representing a step\n",
    "    \"\"\"\n",
    "    step = COLOR(BROWN)(CUBOID([x,y,z]))\n",
    "    step = STRUCT([T(3)(height),step])\n",
    "    base = CUBOID([x-x/6.0,z,height])\n",
    "    base = STRUCT([T(1)(x/6.0),T(2)(y/2.0 - z),base])\n",
    "    pillar = CUBOID([z,z,height+z])\n",
    "    pillar = STRUCT([T(1)(x),T(2)(y/2.0 - z),pillar])\n",
    "    \n",
    "    step = STRUCT([step,base,pillar])\n",
    "    return step"
   ]
  },
  {
   "cell_type": "code",
   "execution_count": 10,
   "metadata": {
    "collapsed": false
   },
   "outputs": [],
   "source": [
    "def buildStair(height):\n",
    "    \"\"\"\n",
    "    Function to create a stair\n",
    "    \n",
    "    Args:\n",
    "    height: total height\n",
    "\n",
    "    Returns:\n",
    "     3D value of type HPC representing a stair\n",
    "    \"\"\"\n",
    "    stair = []\n",
    "    with open(\"porte.lines\",\"rb\") as file:\n",
    "        reader = csv.reader(file,delimiter=\",\")\n",
    "        j = 1\n",
    "        for row in reader:\n",
    "            if (j==1):\n",
    "                xf = float(row[0])\n",
    "                xi = float(row[2])\n",
    "                yi = float(row[3])\n",
    "            j += 1\n",
    "        dimension = xi-xf+10\n",
    "    platform = createPlatform(dimension,height/40,5)\n",
    "    platform = R([1,2])(PI)(platform)\n",
    "    step = R([1,2])(PI)(createStep(dimension/2.0,dimension,height/40.0,5))\n",
    "    \n",
    "    stair.append(T([1,2])([xi+10,yi+dimension])(platform))\n",
    "    \n",
    "    x = xi+10\n",
    "    i = 1\n",
    "    d = xi+10\n",
    "    y = yi + dimension\n",
    "    x = x+dimension/2.0+10\n",
    "    steps = []\n",
    "    #,T([1,3])([dimension/2.0+5,-10]),step\n",
    "    while (height > 0):\n",
    "        height = height - 10\n",
    "        steps.append(T([1,2,3])([x,y,-height-10])(step))\n",
    "        x = x -20\n",
    "        i = i+1\n",
    "        if (height< 10):\n",
    "            break\n",
    "    stair = STRUCT(stair)\n",
    "    steps = R([2,1])(PI)(STRUCT(steps))\n",
    "    \n",
    "\n",
    "    return STRUCT([stair,T([1,2])([xi+dimension*6/3 +10,+y*2 - dimension]),steps])"
   ]
  },
  {
   "cell_type": "markdown",
   "metadata": {},
   "source": [
    "Output:\n",
    "![alt text](scala.png \"Title\")"
   ]
  },
  {
   "cell_type": "markdown",
   "metadata": {},
   "source": [
    "Green area around the house"
   ]
  },
  {
   "cell_type": "code",
   "execution_count": 11,
   "metadata": {
    "collapsed": false
   },
   "outputs": [],
   "source": [
    "def greenArea():\n",
    "    beamPoints = []\n",
    "    with open(\"muri.lines\", \"rb\") as file:\n",
    "            reader = csv.reader(file,delimiter=\",\")\n",
    "            i = 0\n",
    "            for row in reader:\n",
    "                if (i==0 or i == 3 or i==8):\n",
    "                    x = float(row[2])\n",
    "                    y = float(row[1])\n",
    "                    elem = [x,y] \n",
    "                    beamPoints.append(elem)\n",
    "                if (i == 2 or i == 6 or i == 10):\n",
    "                    x = float(row[2])\n",
    "                    y = float(row[3])\n",
    "                    elem = [x,y]\n",
    "                    beamPoints.append(elem)\n",
    "                i = i+1\n",
    "    \n",
    "    ##Calculate green area\n",
    "    x = 0 #x-dimension\n",
    "    y = 0\n",
    "    xmin = beamPoints[0][0]\n",
    "    ymin = beamPoints[0][1]\n",
    "    xmax = xmin\n",
    "    ymax = ymin\n",
    "    for i in range(1,len(beamPoints)):\n",
    "        if(xmin>beamPoints[i][0]):\n",
    "            xmin = beamPoints[i][0]\n",
    "        if(xmax<beamPoints[i][0]):\n",
    "            xmax = beamPoints[i][0]\n",
    "        if(ymin>beamPoints[i][1]):\n",
    "            ymin = beamPoints[i][1]\n",
    "        if(ymax<beamPoints[i][1]):\n",
    "            ymax = beamPoints[i][1]\n",
    "    dimensionXY = (xmax-xmin,ymax-ymin)\n",
    "    green = CUBOID([dimensionXY[0]+910,dimensionXY[1]+600,10])\n",
    "    green = TEXTURE(\"grass.jpg\")(STRUCT([T([1,2])([xmin-600,ymin-300])(green)]))\n",
    "    return green,dimensionXY,xmin-300,ymin-300"
   ]
  },
  {
   "cell_type": "markdown",
   "metadata": {},
   "source": [
    "Output (green area + multistorey house):\n",
    "![alt text](2pianigiardino.png \"Title\")"
   ]
  },
  {
   "cell_type": "markdown",
   "metadata": {},
   "source": [
    "Function to build a curved road:"
   ]
  },
  {
   "cell_type": "code",
   "execution_count": 12,
   "metadata": {
    "collapsed": false
   },
   "outputs": [],
   "source": [
    "def buildCurvedRoad(dXY,x,y):\n",
    "    \"\"\"\n",
    "    Function to create a curved road\n",
    "    \n",
    "    Args:\n",
    "    dXY: x and y dimension\n",
    "    x: distance from origin\n",
    "    y: distance from origin\n",
    "\n",
    "    Returns:\n",
    "     3D value of type HPC representing a stair\n",
    "    \"\"\"\n",
    "    verticies = [[dXY[0]+100,y],[dXY[0]+100,(y+dXY[1])*3/2.0],[dXY[0]-450,(y+dXY[1]*2)],[dXY[0]-450,(y+dXY[1]*2)],[dXY[0]-500,(y+dXY[1]*4.5)+20]]\n",
    "    polyline = POLYLINE(verticies)\n",
    "    polyline = (STRUCT([polyline]))\n",
    "    \n",
    "    roadwidth = 200\n",
    "    edgeWidth = 20\n",
    "    \n",
    "    road = BEZIERSTRIPE([verticies,roadwidth,24])\n",
    "    edge = PROD([BEZIERSTRIPE([verticies,edgeWidth,24]),QUOTE([10])])\n",
    "    edge = COLOR(WHITE)(STRUCT([edge]))\n",
    "    \n",
    "    road =  COLOR(BLACK)(STRUCT([road]))\n",
    "    return STRUCT([edge,road,T(1)(-roadwidth),edge])\n",
    "    \n",
    "    "
   ]
  },
  {
   "cell_type": "markdown",
   "metadata": {},
   "source": [
    "Output:\n",
    "![alt text](stradacurva.png \"Title\")"
   ]
  },
  {
   "cell_type": "code",
   "execution_count": 13,
   "metadata": {
    "collapsed": false
   },
   "outputs": [],
   "source": [
    "def buildRoad(dimension,xBreak,pos):\n",
    "    \"\"\"\n",
    "    Function to create a road\n",
    "    \n",
    "    Args:\n",
    "    dimension: x and y dimension\n",
    "    xBreak: if there is a break of the edge\n",
    "    pos: positioning (left, right)\n",
    "\n",
    "    Returns:\n",
    "     3D value of type HPC representing a stair\n",
    "    \"\"\"\n",
    "    \n",
    "    road = COLOR(BLACK)(CUBOID([dimension,200,10]))\n",
    "    \n",
    "    edge = COLOR(WHITE)(CUBOID([dimension,20,10]))\n",
    "\n",
    "    \n",
    "    elem = STRUCT([road,T(3)(10),edge])\n",
    "    if (xBreak != 0):\n",
    "        fedge = COLOR(WHITE)(CUBOID([xBreak,20,10]))\n",
    "        print dimension\n",
    "        x = dimension + xBreak - 200 +20\n",
    "        ledge = COLOR(WHITE)(CUBOID([x,20,10]))\n",
    "        elem = STRUCT([elem,T(2)(200-20),T([1,3])([+dimension,10]),fedge,T(1)(-dimension),ledge])\n",
    "    else:\n",
    "        edge = COLOR(WHITE)(CUBOID([dimension-180,20,10]))\n",
    "        if(pos == \"l\"):\n",
    "            elem = STRUCT([elem,T(2)(200-20),T(3)(10),edge])\n",
    "        else:\n",
    "            elem = STRUCT([elem,T([1,2])([200-20,200-20]),T(3)(10),edge])\n",
    "    \n",
    "    \n",
    "    return elem\n",
    "    "
   ]
  },
  {
   "cell_type": "markdown",
   "metadata": {},
   "source": [
    "Output:\n",
    "![alt text](strada.png \"Title\")"
   ]
  },
  {
   "cell_type": "code",
   "execution_count": 14,
   "metadata": {
    "collapsed": false
   },
   "outputs": [],
   "source": [
    "def buildNeighborhood():\n",
    "\n",
    "    house = ggpl_build_house()\n",
    "    floor = buildFloor()\n",
    "    pillars = buildFrame();\n",
    "    roof = TEXTURE(\"roof.jpg\")(buildFloor())\n",
    "    house = STRUCT([pillars,house,floor])\n",
    "    stair = buildStair(200)\n",
    "    multi = STRUCT([house,T(3)(200),stair,T(3)(10),house,T(3)(200),roof])\n",
    "    green,dimensionXY,dx,dy = greenArea()\n",
    "    multi = STRUCT([green,T(3)(10),multi])\n",
    "\n",
    "    neighborhood = STRUCT([multi,T([1,2])([dx+dimensionXY[0]-40,dy+dimensionXY[1]]),multi])\n",
    "    n2 = R([1,2])(PI)(neighborhood)\n",
    "    neighborhood =STRUCT([neighborhood,T([1,2])([-dy*2-dimensionXY[0]-100,270+dy*5+dimensionXY[1]]),n2])\n",
    "    \n",
    "    cRoad = COLOR(BLACK)(buildCurvedRoad(dimensionXY,dx,dy))\n",
    "    neighborhood = STRUCT([neighborhood,T([1,3])([-dx-dimensionXY[0]*2.5-50,11]),cRoad])\n",
    "    \n",
    "    xRoad = buildRoad((dimensionXY[0]+880)*2,-dx-dimensionXY[0]*3.5,\"r\")\n",
    "    yRoad = buildRoad(dimensionXY[1]+1500,0,\"l\")\n",
    "    yRoad = R([2,1])(PI/2.0)(yRoad)\n",
    "    \n",
    "    neighborhood = STRUCT([neighborhood,T([1,2])([dx-(dimensionXY[0]+1150),dy-200]),xRoad,T([1,2])([-200,dy+dimensionXY[1]+1150]),yRoad])\n",
    "    yRoadLeft = buildRoad(dimensionXY[1]+1500,0,\"r\")\n",
    "    yRoadLeft = R([2,1])(PI/2.0)(yRoadLeft)\n",
    "    yRoadLeft = R([2,1])(PI)(yRoadLeft)\n",
    "    neighborhood = STRUCT([neighborhood,T([1,2])([+850,dy/2.0-20]),yRoadLeft])\n",
    "    n1 = R([1,2])(PI)(neighborhood)\n",
    "    \n",
    "    neighborhood = STRUCT([neighborhood,T([1,2])([-dimensionXY[0]*4+160,dimensionXY[1]-70]),n1])\n",
    "    \n",
    "    \n",
    "    return neighborhood              "
   ]
  },
  {
   "cell_type": "markdown",
   "metadata": {},
   "source": [
    "Output:\n",
    "![alt text](vicinato.png \"Title\")"
   ]
  },
  {
   "cell_type": "markdown",
   "metadata": {},
   "source": [
    "Output:\n",
    "![alt text](vicinato2.png \"Title\")"
   ]
  },
  {
   "cell_type": "markdown",
   "metadata": {},
   "source": [
    "Function to create a bush"
   ]
  },
  {
   "cell_type": "code",
   "execution_count": 22,
   "metadata": {
    "collapsed": false
   },
   "outputs": [],
   "source": [
    "def bush(x):\n",
    "    \"\"\"\n",
    "    Function to create a bush.\n",
    "    \n",
    "    Args:\n",
    "    x: circle radius\n",
    "    \n",
    "    Returns:\n",
    "    3D value of type HPC representing the bush.\n",
    "    \"\"\" \n",
    "    b = TEXTURE(\"bush.jpg\")(SPHERE(x)([12,12]))\n",
    "    b1 = TEXTURE(\"bush.jpg\")(SPHERE(x/1.5)([12,12]))\n",
    "    \n",
    "    elem = STRUCT([b,T([2,3])([x/2.0,x/1.5]),b1])\n",
    "    elem = STRUCT([elem,T([1,2])([x/2.0,x/2.0]),b])\n",
    "    elem = STRUCT([elem,T(1)(x),b])\n",
    "    \n",
    "    return elem"
   ]
  },
  {
   "cell_type": "markdown",
   "metadata": {},
   "source": [
    "Function to create a tree"
   ]
  },
  {
   "cell_type": "code",
   "execution_count": 23,
   "metadata": {
    "collapsed": false
   },
   "outputs": [],
   "source": [
    "def tree(x):\n",
    "    \"\"\"\n",
    "    Function to create a tree.\n",
    "    \n",
    "    Args:\n",
    "    x: cone radius\n",
    "    \n",
    "    Returns:\n",
    "    3D value of type HPC representing the tree.\n",
    "    \"\"\" \n",
    "    height = x * 2\n",
    "    c = TEXTURE(\"tree.jpg\")(CONE([x,height])(12))\n",
    "    x = x -20\n",
    "    c1 = TEXTURE(\"tree.jpg\")(CONE([x,height])(12))\n",
    "    x = x-10\n",
    "    c2 = TEXTURE(\"tree.jpg\")(CONE([x,height])(12))\n",
    "    \n",
    "    base = TEXTURE(\"chop.jpeg\")(CYLINDER([x*0.7,x/2.0])(12))\n",
    "    \n",
    "    tree = STRUCT([base,T(3)(x/2.0),c,T(3)(x),c1,T(3)(x),c2])\n",
    "    \n",
    "    return tree"
   ]
  },
  {
   "cell_type": "code",
   "execution_count": 24,
   "metadata": {
    "collapsed": false
   },
   "outputs": [
    {
     "name": "stdout",
     "output_type": "stream",
     "text": [
      "2380.645166\n",
      "Child 3\n",
      "Child 3\n"
     ]
    },
    {
     "data": {
      "text/plain": [
       "<pyplasm.xgepy.Hpc; proxy of <Swig Object of type 'std::shared_ptr< Hpc > *' at 0x000000000ACB59C0> >"
      ]
     },
     "execution_count": 24,
     "metadata": {},
     "output_type": "execute_result"
    }
   ],
   "source": [
    "building = buildNeighborhood()\n",
    "b = bush(50)\n",
    "building = STRUCT([building,T([1,2,3])([-400,-400,30]),b,T([1,2])([100,50]),b])\n",
    "t = tree(100)\n",
    "building = STRUCT([building,T([1,2,3])([-800,500,20]),t])\n",
    "VIEW(building)\n"
   ]
  },
  {
   "cell_type": "markdown",
   "metadata": {
    "collapsed": true
   },
   "source": [
    "Some additional decorations: a bush and a tree.\n",
    "![alt text](decorations.png \"Title\")"
   ]
  },
  {
   "cell_type": "code",
   "execution_count": null,
   "metadata": {
    "collapsed": true
   },
   "outputs": [],
   "source": []
  }
 ],
 "metadata": {
  "kernelspec": {
   "display_name": "Python 2",
   "language": "python",
   "name": "python2"
  },
  "language_info": {
   "codemirror_mode": {
    "name": "ipython",
    "version": 2
   },
   "file_extension": ".py",
   "mimetype": "text/x-python",
   "name": "python",
   "nbconvert_exporter": "python",
   "pygments_lexer": "ipython2",
   "version": "2.7.12"
  }
 },
 "nbformat": 4,
 "nbformat_minor": 1
}
