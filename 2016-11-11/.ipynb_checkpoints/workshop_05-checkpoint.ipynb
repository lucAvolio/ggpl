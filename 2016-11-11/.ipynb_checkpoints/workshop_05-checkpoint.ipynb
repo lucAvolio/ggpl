{
 "cells": [
  {
   "cell_type": "markdown",
   "metadata": {},
   "source": [
    "We are going to create a bookcase. The model is in the image below.\n",
    "![alt text](bookcase.jpg \"Title\")"
   ]
  },
  {
   "cell_type": "markdown",
   "metadata": {},
   "source": [
    "Function to create the top of the table."
   ]
  },
  {
   "cell_type": "code",
   "execution_count": null,
   "metadata": {
    "collapsed": false
   },
   "outputs": [
    {
     "name": "stdout",
     "output_type": "stream",
     "text": [
      "Evaluating fenvs.py..\n",
      "...fenvs.py imported in 0.0054312010096 seconds\n"
     ]
    },
    {
     "name": "stderr",
     "output_type": "stream",
     "text": [
      "c:\\program files\\python27\\lib\\site-packages\\larlib\\larstruct.py:233: FutureWarning: comparison to `None` will result in an elementwise object comparison in the future.\n",
      "  self.body = [item for item in data if item != None]\n"
     ]
    }
   ],
   "source": [
    "from larlib import *\n",
    "\n",
    "def createBase(dx,dy,dz):\n",
    "    \n",
    "    v = CUBOID([dx,dy,dz/3])\n",
    "    d = createDrawers(dx,dy,dz/3)\n",
    "    base = STRUCT([v,d])\n",
    "    VIEW(base)"
   ]
  },
  {
   "cell_type": "code",
   "execution_count": null,
   "metadata": {
    "collapsed": false
   },
   "outputs": [],
   "source": [
    "def createDrawers(x,y,z):\n",
    "    dist = 0.2\n",
    "    dimX = x/50.0\n",
    "    dimY = 0.2\n",
    "    dimZ = z-dist*2\n",
    "    \n",
    "    cVert = COLOR(BROWN)(CUBOID([dimX,dimY,dimZ]))\n",
    "    c = STRUCT([T(1)(x),T(2)(dist),T(3)(dist),(cVert),T(2)(y-dist*3),(cVert)])\n",
    "    \n",
    "    cOriz = COLOR(BROWN)(CUBOID([dimX,dimZ-dimY*2,dimY]))\n",
    "    c = STRUCT([c,T(1)(x),T(3)(dist),T(2)(dist+dimY),(cOriz)])\n",
    "    return c\n",
    "    \n",
    "    \n",
    "createBase(2,2,7)"
   ]
  },
  {
   "cell_type": "code",
   "execution_count": null,
   "metadata": {
    "collapsed": true
   },
   "outputs": [],
   "source": []
  }
 ],
 "metadata": {
  "kernelspec": {
   "display_name": "Python 2",
   "language": "python",
   "name": "python2"
  },
  "language_info": {
   "codemirror_mode": {
    "name": "ipython",
    "version": 2
   },
   "file_extension": ".py",
   "mimetype": "text/x-python",
   "name": "python",
   "nbconvert_exporter": "python",
   "pygments_lexer": "ipython2",
   "version": "2.7.12"
  }
 },
 "nbformat": 4,
 "nbformat_minor": 1
}
