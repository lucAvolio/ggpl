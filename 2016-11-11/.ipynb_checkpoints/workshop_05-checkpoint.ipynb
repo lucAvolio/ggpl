{
 "cells": [
  {
   "cell_type": "markdown",
   "metadata": {},
   "source": [
    "We are going to create a bookcase. The model is in the image below.\n",
    "![alt text](bookcase.png \"Title\")"
   ]
  },
  {
   "cell_type": "markdown",
   "metadata": {},
   "source": [
    "Function to create the drawers."
   ]
  },
  {
   "cell_type": "code",
   "execution_count": 1,
   "metadata": {
    "collapsed": false
   },
   "outputs": [
    {
     "name": "stdout",
     "output_type": "stream",
     "text": [
      "Evaluating fenvs.py..\n",
      "...fenvs.py imported in 0.00549877028201 seconds\n"
     ]
    },
    {
     "name": "stderr",
     "output_type": "stream",
     "text": [
      "c:\\program files\\python27\\lib\\site-packages\\larlib\\larstruct.py:233: FutureWarning: comparison to `None` will result in an elementwise object comparison in the future.\n",
      "  self.body = [item for item in data if item != None]\n"
     ]
    }
   ],
   "source": [
    "from larlib import *\n",
    "\n",
    "def createBase(dx,dy,dz):\n",
    "    \"\"\"\n",
    "    Function to create the base.\n",
    "    \n",
    "    Args:\n",
    "    dx: base dimension (x axis)\n",
    "    dy: base dimension (y axis)\n",
    "    dz: base dimension (z axis)\n",
    "    \n",
    "    Returns:\n",
    "    3D value of type HPC representing the base.\n",
    "    \"\"\"\n",
    "    \n",
    "    i = dy/2\n",
    "    elem = []\n",
    "    for j in range(0,i):\n",
    "        if j%2 == 0:\n",
    "            p = \"r\"\n",
    "        else:\n",
    "            p = \"l\"\n",
    "        v = CUBOID([dx,dx,dx])\n",
    "        d = createDrawers(dx,dx,dx,p)\n",
    "        elem.extend([v,d,T(2)(2)])\n",
    "        \n",
    "    base = STRUCT(elem)\n",
    "    return base"
   ]
  },
  {
   "cell_type": "markdown",
   "metadata": {},
   "source": [
    "Output:\n",
    "![alt text](drawers.png \"Title\")"
   ]
  },
  {
   "cell_type": "markdown",
   "metadata": {},
   "source": [
    "Function to place the knob (left/right)"
   ]
  },
  {
   "cell_type": "code",
   "execution_count": 2,
   "metadata": {
    "collapsed": false
   },
   "outputs": [],
   "source": [
    "def createDrawers(x,y,z,p):\n",
    "    \"\"\"\n",
    "    Function to create the drawers.\n",
    "    \n",
    "    Args:\n",
    "    x: dimension of the drawers (x axis)\n",
    "    y: dimension of the drawers (y axis)\n",
    "    z: dimension of the drawers (y axis)\n",
    "    p: position of the knob\n",
    "    \n",
    "    Returns:\n",
    "    3D value of type HPC representing the drawers.\n",
    "    \"\"\"\n",
    "    dist = 0.2\n",
    "    dimX = x/50.0\n",
    "    dimY = 0.2\n",
    "    dimZ = z-dist*2\n",
    "    \n",
    "    cVert = COLOR(BROWN)(CUBOID([dimX,dimY,dimZ]))\n",
    "    c = STRUCT([T(1)(x),T(2)(dist),T(3)(dist),(cVert),T(2)(y-dist*3),(cVert)])\n",
    "    \n",
    "    cOriz = COLOR(BROWN)(CUBOID([dimX,dimZ-dimY*2,dimY]))\n",
    "    c = STRUCT([c,T(1)(x),T(3)(dist),T(2)(dist+dimY),(cOriz),T(3)(dimZ-dist),(cOriz)])\n",
    "    \n",
    "    s = COLOR(WHITE)(SPHERE(0.05)([12,12]))\n",
    "    if p is \"r\":\n",
    "        c = STRUCT([c,T(1)(x+dist/3.0),T(2)(y-dist*3.0/2.0),T(3)(z/2.0),s])\n",
    "    if p is \"l\":\n",
    "        c = STRUCT([c,T(1)(x+dist/3.0),T(2)(dimY/2.0+dist),T(3)(z/2.0),s])        \n",
    "    return c"
   ]
  },
  {
   "cell_type": "markdown",
   "metadata": {},
   "source": [
    "Output:\n",
    "![alt text](left.png \"Title\")\n",
    "![alt text](right.png \"Title\")"
   ]
  },
  {
   "cell_type": "markdown",
   "metadata": {},
   "source": [
    "Function to create the bookcase."
   ]
  },
  {
   "cell_type": "code",
   "execution_count": 3,
   "metadata": {
    "collapsed": false
   },
   "outputs": [],
   "source": [
    "def createBookCase(x,y,z):\n",
    "    \"\"\"\n",
    "    Function to create the bookcase.\n",
    "    \n",
    "    Args:\n",
    "    x: dimension of the bookcase (x axis)\n",
    "    y: dimension of the bookcase (y axis)\n",
    "    z: dimension of the bookcase (z axis)\n",
    "    \n",
    "    Returns:\n",
    "    3D value of type HPC representing the bookcase.\n",
    "    \"\"\"\n",
    "    m = y/2\n",
    "    c = CUBOID([x,0.2,z])\n",
    "    s = CUBOID([x,2-0.2,0.2])\n",
    "    \n",
    "    sl = [T(2)(0.2),T(3)(2-0.2)]\n",
    "    for j in range(0,z-4):\n",
    "        sl.extend([s,T(3)(2)])\n",
    "    sl = STRUCT(sl)\n",
    "    c = STRUCT([c,sl])\n",
    "    l = [c]\n",
    "    dim = 0.1\n",
    "    for j in range(0,m-1):\n",
    "        l.extend([T(2)(2-dim),c])\n",
    "        dim = 0\n",
    "    c = CUBOID([x,0.2,z])\n",
    "    l.extend([T(2)(2-0.1),c])\n",
    "    l = STRUCT(l)\n",
    "    return l"
   ]
  },
  {
   "cell_type": "markdown",
   "metadata": {},
   "source": [
    "![alt text](bookcase2.png \"Title\")"
   ]
  },
  {
   "cell_type": "code",
   "execution_count": 4,
   "metadata": {
    "collapsed": true
   },
   "outputs": [],
   "source": [
    "def ggpl_bookCase(x,y,z):\n",
    "    base = createBase(2,y,z)\n",
    "    bookCase = createBookCase(2-0.5,y,z-2)\n",
    "    \n",
    "    structure = STRUCT([base,T(3)(2),bookCase])\n",
    "    return structure"
   ]
  },
  {
   "cell_type": "markdown",
   "metadata": {},
   "source": [
    "![alt text](final.png \"Title\")"
   ]
  },
  {
   "cell_type": "code",
   "execution_count": 5,
   "metadata": {
    "collapsed": false
   },
   "outputs": [
    {
     "name": "stdout",
     "output_type": "stream",
     "text": [
      "Child 3\n",
      "Child 3\n",
      "Child 3\n"
     ]
    },
    {
     "data": {
      "text/plain": [
       "<pyplasm.xgepy.Hpc; proxy of <Swig Object of type 'std::shared_ptr< Hpc > *' at 0x000000000BDCFF00> >"
      ]
     },
     "execution_count": 5,
     "metadata": {},
     "output_type": "execute_result"
    }
   ],
   "source": [
    "structure = ggpl_bookCase(2,6,10)\n",
    "VIEW(structure)"
   ]
  },
  {
   "cell_type": "markdown",
   "metadata": {},
   "source": [
    "![alt text](example.png \"Title\")"
   ]
  },
  {
   "cell_type": "code",
   "execution_count": null,
   "metadata": {
    "collapsed": true
   },
   "outputs": [],
   "source": []
  }
 ],
 "metadata": {
  "kernelspec": {
   "display_name": "Python 2",
   "language": "python",
   "name": "python2"
  },
  "language_info": {
   "codemirror_mode": {
    "name": "ipython",
    "version": 2
   },
   "file_extension": ".py",
   "mimetype": "text/x-python",
   "name": "python",
   "nbconvert_exporter": "python",
   "pygments_lexer": "ipython2",
   "version": "2.7.12"
  }
 },
 "nbformat": 4,
 "nbformat_minor": 1
}
