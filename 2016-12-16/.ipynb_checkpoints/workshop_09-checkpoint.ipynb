{
 "cells": [
  {
   "cell_type": "markdown",
   "metadata": {},
   "source": [
    "# <h>WORKSHOP 09</h>"
   ]
  },
  {
   "cell_type": "markdown",
   "metadata": {},
   "source": [
    "<b>Function to create a roof depending on a basic polyhedron (2D).\n",
    "First of all, we need:\n",
    "    <l><ul>-a set of vertices</ul><ul>-an angle</ul><ul>-a roof height</ul></l>\n",
    "<br>\n",
    "Libraries:\n",
    "<l><ul>-larlib</ul><ul>-numpy</ul></b>"
   ]
  },
  {
   "cell_type": "code",
   "execution_count": 6,
   "metadata": {
    "collapsed": false
   },
   "outputs": [],
   "source": [
    "from larlib import *\n",
    "from numpy import *\n",
    "\n",
    "v = [[0.0,0.0],[0.0,2.0],[2.0,2.0],[2.0,0.0]]\n",
    "alpha = PI/8\n",
    "height = 2.0"
   ]
  },
  {
   "cell_type": "markdown",
   "metadata": {},
   "source": [
    "This is a function to calculate the minimum and the maximum of a set of vertices on x and y axis."
   ]
  },
  {
   "cell_type": "code",
   "execution_count": 2,
   "metadata": {
    "collapsed": false
   },
   "outputs": [],
   "source": [
    "def calculateMinMaxValues(points):\n",
    "    \"\"\"\n",
    "    Function to calculate the minimum and the maximum of a set of vertices on x and y axis.\n",
    "    \n",
    "    Args:\n",
    "    points: a set of vertices\n",
    "    \n",
    "    Returns:\n",
    "    4 values corresponding to: xMin,yMin,xMax,yMax (wrapped in a set)\n",
    "    \"\"\"\n",
    "    x = []\n",
    "    y = []\n",
    "    for p in points:\n",
    "        x.append(p[0])\n",
    "        y.append(p[1])\n",
    "    xMax = np.amax(x)\n",
    "    yMax = np.amax(y)\n",
    "    xMin = np.amin(x)\n",
    "    yMin = np.amin(y)\n",
    "    \n",
    "    return [xMax,yMax,xMin,yMin]"
   ]
  },
  {
   "cell_type": "markdown",
   "metadata": {},
   "source": [
    "Function to calculate the higher internal points of the roof."
   ]
  },
  {
   "cell_type": "code",
   "execution_count": 3,
   "metadata": {
    "collapsed": true
   },
   "outputs": [],
   "source": [
    "def calculateTopPoints(points,height,angle):\n",
    "    \"\"\"\n",
    "    Function to calculate the higher internal points of the roof.\n",
    "    \n",
    "    Args:\n",
    "    points: a set of vertices\n",
    "    height: roof height\n",
    "    angle: roof pitch\n",
    "    \n",
    "    Returns:\n",
    "    A set containing the higher internal points of the roof.\n",
    "    \"\"\"    \n",
    "    distance = math.atan2(height,1/math.sin(angle))\n",
    "    xMax,yMax,xMin,yMin = calculateMinMaxValues(points)\n",
    "    \n",
    "    topPoints = []\n",
    "    for i in range(0,len(points)):\n",
    "        x = 0\n",
    "        y = 0\n",
    "        if points[i][0] == xMax:\n",
    "            x = points[i][0]-distance\n",
    "        elif points[i][0] == xMin or (points[i-1][0] <= points[i][0] and  points[i+1][0] >= points[i][0]):\n",
    "            x = points[i][0]+distance\n",
    "        \n",
    "        if points[i][1] == yMin:\n",
    "            y = points[i][1]+distance\n",
    "        elif points[i][1] == yMax or (points[i-1][1] <= points[i][1] and points[i+1][1] >= points[i][0]):\n",
    "            y = points[i][1]-distance\n",
    "        point = [x,y]\n",
    "        topPoints.extend([point])\n",
    "        \n",
    "    return topPoints"
   ]
  },
  {
   "cell_type": "markdown",
   "metadata": {},
   "source": [
    "Function to create the roof (ceiling+roof)."
   ]
  },
  {
   "cell_type": "code",
   "execution_count": 4,
   "metadata": {
    "collapsed": false
   },
   "outputs": [],
   "source": [
    "def buildRoof(points,angle,h):\n",
    "    \"\"\"\n",
    "    Function to create the roof (ceiling+roof).\n",
    "    \n",
    "    Args:\n",
    "    points: a set of vertices\n",
    "    h: roof height\n",
    "    angle: roof pitch\n",
    "    \n",
    "    Returns:\n",
    "    3D value of type HPC representing the roof.    \n",
    "    \"\"\"        \n",
    "    topPoints = calculateTopPoints(points,h,angle)\n",
    "        \n",
    "    \n",
    "    ceiling = STRUCT(AA(POLYLINE)([topPoints]))\n",
    "    ceiling = SOLIDIFY(ceiling)\n",
    "    ceiling = STRUCT([T(3)(h),ceiling])\n",
    "\n",
    "    for p in points:\n",
    "        p.append(0)\n",
    "    for hp in topPoints:\n",
    "        hp.append(h)\n",
    "    newPoints = points+topPoints\n",
    "    \n",
    "    cells = []\n",
    "    for j in range(1,len(points)+1):\n",
    "        if j != len(points):\n",
    "            cells.extend([[j,j+1,j+len(points),j+len(points)+1]])\n",
    "        else:\n",
    "            cells.extend([[j,1,j+len(points),j+1]])\n",
    "\n",
    "    #Creazione del modello\n",
    "    roof = MKPOL([newPoints,cells,None])\n",
    "    roof = STRUCT([roof,ceiling])\n",
    "    roof = OFFSET([.1,.1,.1])(roof)\n",
    "    roof = COLOR(RED)(roof)\n",
    "\n",
    "    return roof"
   ]
  },
  {
   "cell_type": "code",
   "execution_count": 7,
   "metadata": {
    "collapsed": false
   },
   "outputs": [
    {
     "data": {
      "text/plain": [
       "<pyplasm.xgepy.Hpc; proxy of <Swig Object of type 'std::shared_ptr< Hpc > *' at 0x000000000B8323F0> >"
      ]
     },
     "execution_count": 7,
     "metadata": {},
     "output_type": "execute_result"
    }
   ],
   "source": [
    "roof = buildRoof(v,alpha,height)\n",
    "VIEW(roof)"
   ]
  },
  {
   "cell_type": "markdown",
   "metadata": {},
   "source": [
    "Some examples:"
   ]
  },
  {
   "cell_type": "markdown",
   "metadata": {},
   "source": [
    "![alt text](LRoof.png \"Title\")\n",
    "![alt text](squareRoof.png \"Title\")"
   ]
  },
  {
   "cell_type": "code",
   "execution_count": null,
   "metadata": {
    "collapsed": true
   },
   "outputs": [],
   "source": []
  }
 ],
 "metadata": {
  "kernelspec": {
   "display_name": "Python 2",
   "language": "python",
   "name": "python2"
  },
  "language_info": {
   "codemirror_mode": {
    "name": "ipython",
    "version": 2
   },
   "file_extension": ".py",
   "mimetype": "text/x-python",
   "name": "python",
   "nbconvert_exporter": "python",
   "pygments_lexer": "ipython2",
   "version": "2.7.12"
  }
 },
 "nbformat": 4,
 "nbformat_minor": 1
}
